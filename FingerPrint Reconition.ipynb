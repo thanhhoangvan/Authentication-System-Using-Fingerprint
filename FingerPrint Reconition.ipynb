{
 "cells": [
  {
   "cell_type": "code",
   "execution_count": 10,
   "id": "8ed8c33d-9ee3-4e01-93c2-0408780bc7f4",
   "metadata": {},
   "outputs": [
    {
     "name": "stderr",
     "output_type": "stream",
     "text": [
      "/mnt/sdb3/TEST/fingerprint_recognition/venv/lib/python3.8/site-packages/scipy/__init__.py:146: UserWarning: A NumPy version >=1.16.5 and <1.23.0 is required for this version of SciPy (detected version 1.16.3\n",
      "  warnings.warn(f\"A NumPy version >={np_minversion} and <{np_maxversion}\"\n"
     ]
    }
   ],
   "source": [
    "import cv2 as cv\n",
    "from glob import glob\n",
    "import os\n",
    "import numpy as np\n",
    "from utils.poincare import calculate_singularities\n",
    "from utils.segmentation import create_segmented_and_variance_images\n",
    "from utils.normalization import normalize\n",
    "from utils.gabor_filter import gabor_filter\n",
    "from utils.frequency import ridge_freq\n",
    "from utils import orientation\n",
    "from utils.crossing_number import calculate_minutiaes\n",
    "from tqdm import tqdm\n",
    "from utils.skeletonize import skeletonize\n",
    "\n",
    "import matplotlib.pyplot as plt\n",
    "\n",
    "%matplotlib inline"
   ]
  },
  {
   "cell_type": "code",
   "execution_count": 2,
   "id": "8b980d1b-482d-4537-b3d7-cd26f2cc3bb6",
   "metadata": {},
   "outputs": [],
   "source": [
    "def fingerprint_pipline(input_img):\n",
    "    block_size = 16\n",
    "\n",
    "    # pipe line picture re https://www.cse.iitk.ac.in/users/biometrics/pages/111.JPG\n",
    "    # normalization -> orientation -> frequency -> mask -> filtering\n",
    "\n",
    "    # normalization - removes the effects of sensor noise and finger pressure differences.\n",
    "    normalized_img = normalize(input_img.copy(), float(100), float(100))\n",
    "\n",
    "    # color threshold\n",
    "    # threshold_img = normalized_img\n",
    "    # _, threshold_im = cv.threshold(normalized_img,127,255,cv.THRESH_OTSU)\n",
    "    # cv.imshow('color_threshold', normalized_img); cv.waitKeyEx()\n",
    "\n",
    "    # ROI and normalisation\n",
    "    (segmented_img, normim, mask) = create_segmented_and_variance_images(normalized_img, block_size, 0.2)\n",
    "\n",
    "    # orientations\n",
    "    angles = orientation.calculate_angles(normalized_img, W=block_size, smoth=False)\n",
    "    orientation_img = orientation.visualize_angles(segmented_img, mask, angles, W=block_size)\n",
    "    \n",
    "    # find the overall frequency of ridges in Wavelet Domain\n",
    "    freq = ridge_freq(normim, mask, angles, block_size, kernel_size=5, minWaveLength=5, maxWaveLength=15)\n",
    "\n",
    "    # create gabor filter and do the actual filtering\n",
    "    gabor_img = gabor_filter(normim, angles, freq)\n",
    "\n",
    "    # thinning oor skeletonize\n",
    "    thin_image = skeletonize(gabor_img)\n",
    "\n",
    "    # minutias\n",
    "    minutias, end, bif = calculate_minutiaes(thin_image)\n",
    "\n",
    "    # singularities\n",
    "    singularities_img, FingerType = calculate_singularities(thin_image, angles, 1, block_size, mask)\n",
    "\n",
    "    # visualize pipeline stage by stage\n",
    "#     output_imgs = [input_img, normalized_img, segmented_img, orientation_img, gabor_img, thin_image, minutias, singularities_img]\n",
    "    output_imgs = [input_img, minutias, singularities_img]\n",
    "    \n",
    "#     for i in range(len(output_imgs)): # Lặp qua từng ảnh output\n",
    "#         if len(output_imgs[i].shape) == 2: # Nếu ảnh thứ i trong output là ảnh Gray(có 2 chiều)\n",
    "#             output_imgs[i] = cv.cvtColor(output_imgs[i], cv.COLOR_GRAY2RGB) # Chuyển thành ảnh RGB để concatenate với 2 ảnh cuối\n",
    "    \n",
    "    # Chuyển list các ảnh thành ảnh 4x4\n",
    "#     results = np.concatenate([np.concatenate(output_imgs[:4], 1), np.concatenate(output_imgs[4:], 1)]).astype(np.uint8)\n",
    "\n",
    "#     return results\n",
    "    return output_imgs, end, bif, FingerType"
   ]
  },
  {
   "cell_type": "code",
   "execution_count": 3,
   "id": "0d8397c9-7c09-4de8-a84a-731ab93c276a",
   "metadata": {},
   "outputs": [],
   "source": [
    "# open images\n",
    "img_dir = './sample_inputs/*'\n",
    "output_dir = './output/'\n",
    "def open_images(directory):\n",
    "    images_paths = glob(directory)\n",
    "    images_names = [i.split('/')[-1][:-4] for i in images_paths]\n",
    "    return images_names, np.array([cv.imread(img_path,0) for img_path in images_paths])\n",
    "\n",
    "names, images = open_images(img_dir)\n",
    "# image pipeline\n",
    "os.makedirs(output_dir, exist_ok=True)\n",
    "\n",
    "# for i, img in enumerate(tqdm(images)):\n",
    "#     results = fingerprint_pipline(img)\n",
    "    \n",
    "# #     cv.imwrite(output_dir+str(i)+'.png', results)\n",
    "# #     cv.imwrite(output_dir+names[i]+'.png', results)\n",
    "#     cv.imshow('image pipeline', results); cv.waitKeyEx()\n",
    "#     break\n",
    "    \n",
    "results, end, bif, fingertype = fingerprint_pipline(images[7])\n",
    "for img in results:\n",
    "    cv.imshow('image pipeline', img)\n",
    "    cv.waitKeyEx()\n",
    "    cv.destroyAllWindows()"
   ]
  },
  {
   "cell_type": "markdown",
   "id": "936d46a0-11ad-4ee9-8f23-c8c6169b2c1d",
   "metadata": {},
   "source": [
    "# Preprocessing before Mathching"
   ]
  },
  {
   "cell_type": "code",
   "execution_count": 4,
   "id": "1ef77fa0-3a5b-47bf-b8f7-7c084b45d8d6",
   "metadata": {},
   "outputs": [],
   "source": [
    "results1, end1, bif1, fingertype1 = fingerprint_pipline(images[0])\n",
    "results2, end2, bif2, fingertype2 = fingerprint_pipline(images[1])"
   ]
  },
  {
   "cell_type": "code",
   "execution_count": 5,
   "id": "4b90f21b-f4d8-4c3f-a004-84309f963815",
   "metadata": {},
   "outputs": [],
   "source": [
    "for img in results1:\n",
    "    cv.imshow('image pipeline', img)\n",
    "    cv.waitKeyEx()\n",
    "    cv.destroyAllWindows()\n",
    "    \n",
    "for img in results2:\n",
    "    cv.imshow('image pipeline', img)\n",
    "    cv.waitKeyEx()\n",
    "    cv.destroyAllWindows()"
   ]
  },
  {
   "cell_type": "code",
   "execution_count": 6,
   "id": "535427cf-c3e4-4151-9542-b547a783e20b",
   "metadata": {},
   "outputs": [],
   "source": [
    "# ending points of fingerprint 1\n",
    "x_end_1 = np.array(end1)[:, 1]\n",
    "y_end_1 = np.array(end1)[:, 2]"
   ]
  },
  {
   "cell_type": "code",
   "execution_count": 7,
   "id": "389f75e0-56e9-48bd-8c3b-b574704f63c6",
   "metadata": {},
   "outputs": [],
   "source": [
    "# ending points of fingerprint 2\n",
    "x_end_2 = np.array(end2)[:, 1]\n",
    "y_end_2 = np.array(end2)[:, 2]"
   ]
  },
  {
   "cell_type": "code",
   "execution_count": 8,
   "id": "f5067272-97da-4723-8ed5-0292e586cd09",
   "metadata": {},
   "outputs": [],
   "source": [
    "# bifucation points of fingerprint 1\n",
    "x_bif_1 = np.array(bif1)[:, 1]\n",
    "y_bif_1 = np.array(bif1)[:, 2]"
   ]
  },
  {
   "cell_type": "code",
   "execution_count": 9,
   "id": "53803683-13d4-4d9d-a02f-cba7d8ddf8e2",
   "metadata": {},
   "outputs": [],
   "source": [
    "# bifucation points of fingerprint 2\n",
    "x_bif_2 = np.array(end2)[:, 1]\n",
    "y_bif_2 = np.array(end2)[:, 2]"
   ]
  },
  {
   "cell_type": "code",
   "execution_count": 10,
   "id": "41ef2923-f60d-40de-a040-3c1c3d82f00d",
   "metadata": {},
   "outputs": [],
   "source": [
    "center_point1 = np.array(fingertype1)[:,1:].astype(int).mean(axis=0)\n",
    "y1_center_point, x1_center_point = center_point1[0], center_point1[1]\n",
    "\n",
    "center_point2 = np.array(fingertype2)[:,1:].astype(int).mean(axis=0)\n",
    "y2_center_point, x2_center_point = center_point2[0], center_point2[1]"
   ]
  },
  {
   "cell_type": "code",
   "execution_count": 11,
   "id": "e7a34890-1d19-410d-9570-dbb284fab4ab",
   "metadata": {},
   "outputs": [
    {
     "data": {
      "text/plain": [
       "(1.6999999999999993, 294.3, -9.400000000000002, 571.4)"
      ]
     },
     "execution_count": 11,
     "metadata": {},
     "output_type": "execute_result"
    },
    {
     "data": {
      "image/png": "[encoded data removed]",
      "text/plain": [
       "<Figure size 432x288 with 1 Axes>"
      ]
     },
     "metadata": {
      "needs_background": "light"
     },
     "output_type": "display_data"
    }
   ],
   "source": [
    "plt.scatter(x_end_1, y_end_1)\n",
    "plt.scatter(x_end_2, y_end_2)\n",
    "plt.title('Minutiaes of 2 fingerprint image')\n",
    "plt.axis('scaled')"
   ]
  },
  {
   "cell_type": "code",
   "execution_count": 12,
   "id": "e0702019-300c-4af5-b020-79c1dfa9a481",
   "metadata": {},
   "outputs": [
    {
     "data": {
      "text/plain": [
       "<matplotlib.collections.PathCollection at 0x7f9c41556100>"
      ]
     },
     "execution_count": 12,
     "metadata": {},
     "output_type": "execute_result"
    },
    {
     "data": {
      "image/png": "[encoded data removed]",
      "text/plain": [
       "<Figure size 432x288 with 1 Axes>"
      ]
     },
     "metadata": {
      "needs_background": "light"
     },
     "output_type": "display_data"
    }
   ],
   "source": [
    "plt.scatter(x1_center_point, y1_center_point)\n",
    "plt.scatter(x2_center_point, y2_center_point)"
   ]
  },
  {
   "cell_type": "code",
   "execution_count": 13,
   "id": "826a1613-b8ec-42f7-bafd-4d9282b98ef3",
   "metadata": {},
   "outputs": [
    {
     "data": {
      "text/plain": [
       "<matplotlib.image.AxesImage at 0x7f9c414c3370>"
      ]
     },
     "execution_count": 13,
     "metadata": {},
     "output_type": "execute_result"
    },
    {
     "data": {
      "image/png": "[encoded data removed]",
      "text/plain": [
       "<Figure size 432x288 with 1 Axes>"
      ]
     },
     "metadata": {
      "needs_background": "light"
     },
     "output_type": "display_data"
    }
   ],
   "source": [
    "plt.imshow(results1[1] + results2[1])"
   ]
  },
  {
   "cell_type": "code",
   "execution_count": 14,
   "id": "148a026b-e2f4-4735-acf2-8e403fdab262",
   "metadata": {},
   "outputs": [
    {
     "data": {
      "text/plain": [
       "<matplotlib.image.AxesImage at 0x7f9c41424820>"
      ]
     },
     "execution_count": 14,
     "metadata": {},
     "output_type": "execute_result"
    },
    {
     "data": {
      "image/png": "[encoded data removed]",
      "text/plain": [
       "<Figure size 432x288 with 1 Axes>"
      ]
     },
     "metadata": {
      "needs_background": "light"
     },
     "output_type": "display_data"
    }
   ],
   "source": [
    "plt.imshow(results1[2] + results2[2])"
   ]
  },
  {
   "cell_type": "code",
   "execution_count": 15,
   "id": "d15fb90c-1cdb-4542-8d23-71295952b3d9",
   "metadata": {},
   "outputs": [],
   "source": [
    "x_translation = x2_center_point - x1_center_point\n",
    "y_translation = y2_center_point - y1_center_point"
   ]
  },
  {
   "cell_type": "code",
   "execution_count": 16,
   "id": "9735ee53-db42-400a-b2d8-797b3686d42e",
   "metadata": {},
   "outputs": [],
   "source": [
    "# ending points of fingerprint 1\n",
    "end_1 = np.array(end1)[:,1:]\n",
    "end_2 = np.array(end2)[:,1:]"
   ]
  },
  {
   "cell_type": "code",
   "execution_count": 17,
   "id": "e436ed47-7e08-4054-a0af-3fc55dfd0f95",
   "metadata": {},
   "outputs": [],
   "source": [
    "# bifucation points of fingerprint 1\n",
    "bif_1 = np.array(bif1)[:,1:]\n",
    "bif_2 = np.array(bif2)[:,1:]"
   ]
  },
  {
   "cell_type": "code",
   "execution_count": 18,
   "id": "ae627318-c921-42a5-8c5f-df15b01cdc67",
   "metadata": {},
   "outputs": [],
   "source": [
    "translation_vecotr = np.array([x_translation, y_translation])"
   ]
  },
  {
   "cell_type": "code",
   "execution_count": 19,
   "id": "76006a35-0ffe-4df5-b39f-df673c911d0e",
   "metadata": {},
   "outputs": [
    {
     "data": {
      "text/plain": [
       "array([-32., -48.])"
      ]
     },
     "execution_count": 19,
     "metadata": {},
     "output_type": "execute_result"
    }
   ],
   "source": [
    "translation_vecotr"
   ]
  },
  {
   "cell_type": "code",
   "execution_count": null,
   "id": "d31f8694-1ad2-417c-b5be-4efec7950de7",
   "metadata": {},
   "outputs": [],
   "source": [
    "new_end_1 = end_1 + translation_vecotr\n",
    "new_bif_1 = bif_1 + translation_vecotr"
   ]
  },
  {
   "cell_type": "code",
   "execution_count": 21,
   "id": "6d2ea2bf-3799-4515-8108-41f44e18d261",
   "metadata": {},
   "outputs": [
    {
     "data": {
      "text/plain": [
       "(-31.8, 293.8, -25.05, 570.05)"
      ]
     },
     "execution_count": 21,
     "metadata": {},
     "output_type": "execute_result"
    },
    {
     "data": {
      "image/png": "[encoded data removed]",
      "text/plain": [
       "<Figure size 432x288 with 1 Axes>"
      ]
     },
     "metadata": {
      "needs_background": "light"
     },
     "output_type": "display_data"
    }
   ],
   "source": [
    "plt.scatter(new_end_1[:, 0], new_end_1[:, 1])\n",
    "plt.scatter(end_2[:, 0], end_2[:, 1])\n",
    "plt.title('Minutiaes of 2 fingerprint image')\n",
    "plt.axis('scaled')"
   ]
  },
  {
   "cell_type": "code",
   "execution_count": 22,
   "id": "133974e9-07ed-4900-b992-44f1ab32772c",
   "metadata": {},
   "outputs": [
    {
     "data": {
      "text/plain": [
       "(-30.35, 285.35, 3.5, 564.5)"
      ]
     },
     "execution_count": 22,
     "metadata": {},
     "output_type": "execute_result"
    },
    {
     "data": {
      "image/png": "[encoded data removed]",
      "text/plain": [
       "<Figure size 432x288 with 1 Axes>"
      ]
     },
     "metadata": {
      "needs_background": "light"
     },
     "output_type": "display_data"
    }
   ],
   "source": [
    "plt.scatter(new_bif_1[:, 0], new_bif_1[:, 1])\n",
    "plt.scatter(bif_2[:, 0], bif_2[:, 1])\n",
    "plt.axis('scaled')"
   ]
  },
  {
   "cell_type": "code",
   "execution_count": 23,
   "id": "63375ff7-63ed-44c8-a9c3-93041889dfa1",
   "metadata": {},
   "outputs": [
    {
     "data": {
      "text/plain": [
       "'Center Point of finger1: (184.0, 288.0)'"
      ]
     },
     "execution_count": 23,
     "metadata": {},
     "output_type": "execute_result"
    }
   ],
   "source": [
    "\"Center Point of finger1: ({}, {})\".format(x1_center_point, y1_center_point)"
   ]
  },
  {
   "cell_type": "code",
   "execution_count": 24,
   "id": "6b165808-b82f-494a-8af6-f88a8f0d39c7",
   "metadata": {},
   "outputs": [
    {
     "data": {
      "text/plain": [
       "'Center Point of finger2: (152.0, 240.0)'"
      ]
     },
     "execution_count": 24,
     "metadata": {},
     "output_type": "execute_result"
    }
   ],
   "source": [
    "\"Center Point of finger2: ({}, {})\".format(x2_center_point, y2_center_point)"
   ]
  },
  {
   "cell_type": "code",
   "execution_count": 25,
   "id": "d82caad3-7861-4395-b2f9-8eba3b806bd0",
   "metadata": {},
   "outputs": [
    {
     "data": {
      "text/plain": [
       "'Center Point of finger1 moved: (152.0, 240.0)'"
      ]
     },
     "execution_count": 25,
     "metadata": {},
     "output_type": "execute_result"
    }
   ],
   "source": [
    "\"Center Point of finger1 moved: ({}, {})\".format(x1_center_point + translation_vecotr[0], y1_center_point + translation_vecotr[1])"
   ]
  },
  {
   "cell_type": "code",
   "execution_count": null,
   "id": "cf2b9bb5-7b5f-4bf9-bb52-cea174a52d44",
   "metadata": {},
   "outputs": [],
   "source": []
  },
  {
   "cell_type": "markdown",
   "id": "d5ba9d5e-6845-4b7f-91d2-adbb3e587591",
   "metadata": {},
   "source": [
    "# Matching"
   ]
  },
  {
   "cell_type": "code",
   "execution_count": 27,
   "id": "e8650c1f-3191-4be4-8b20-d3c4ec2dbcdf",
   "metadata": {},
   "outputs": [],
   "source": [
    "def DISTANCE(U, V) -> float:\n",
    "    \"\"\"\n",
    "    \"\"\"\n",
    "    return np.sqrt((U[0] - V[0])**2 + (U[1] - V[1])**2)"
   ]
  },
  {
   "cell_type": "code",
   "execution_count": 28,
   "id": "397a7ffe-a0f0-4674-ad67-ed44b2e527a9",
   "metadata": {},
   "outputs": [],
   "source": [
    "def Points_distance(points1, points2) -> list:\n",
    "    n = points1.shape[0]\n",
    "    m = points2.shape[0]\n",
    "    Distance = np.zeros((n, m))\n",
    "    for i in range(n):\n",
    "        for j in range(m):\n",
    "            Distance[i, j] = DISTANCE(points1[i], points2[j])\n",
    "    return Distance"
   ]
  },
  {
   "cell_type": "code",
   "execution_count": 57,
   "id": "ff5070b6-1e23-42da-a7a0-5711da06ec85",
   "metadata": {},
   "outputs": [],
   "source": [
    "def Filter_Points(ListPoints, CenterPoint, size = (0,0)):\n",
    "    \"\"\"\n",
    "    \"\"\"\n",
    "    n = ListPoints.shape[0]\n",
    "    ResultPoints = []\n",
    "    for i in range(n):\n",
    "        distance = np.abs(CenterPoint - ListPoints[i])\n",
    "        if (distance[0] <= size[0]/2) and (distance[1] <= size[1]/2):\n",
    "            ResultPoints.append(ListPoints[i].tolist())\n",
    "    return np.array(ResultPoints)"
   ]
  },
  {
   "cell_type": "code",
   "execution_count": 67,
   "id": "bfce95b4-f9a9-4d18-ac2c-809c09a120b4",
   "metadata": {},
   "outputs": [],
   "source": [
    "def Transtation_Finger(Minutiae, Trans_Vector) -> np.ndarray:\n",
    "    \"\"\"\n",
    "    \"\"\"\n",
    "    return Minutiae + Trans_Vector"
   ]
  },
  {
   "cell_type": "code",
   "execution_count": 99,
   "id": "d36d52c7-f3e8-444e-a66c-a4e531fed147",
   "metadata": {},
   "outputs": [],
   "source": [
    "def MATCH(img_finger1, img_finger2, alpha=0.5, box_size=(0, 0)) -> bool:\n",
    "    \"\"\"\n",
    "    \"\"\"\n",
    "    # Get minutiae and centerpoint\n",
    "    imgresult1, end1, bif1, fingertype1 = fingerprint_pipline(img_finger1)\n",
    "    imgresult2, end2, bif2, fingertype2 = fingerprint_pipline(img_finger2)\n",
    "    \n",
    "    # Get CenterPoint\n",
    "    center_point1 = np.array(fingertype1)[:,1:].astype(int).mean(axis=0)\n",
    "    y1_center_point, x1_center_point = center_point1[0], center_point1[1]\n",
    "\n",
    "    center_point2 = np.array(fingertype2)[:,1:].astype(int).mean(axis=0)\n",
    "    y2_center_point, x2_center_point = center_point2[0], center_point2[1]\n",
    "    \n",
    "    centerpoint = np.array([x2_center_point, y2_center_point])\n",
    " \n",
    "    # Calculate Translation Vector\n",
    "    x_translation = x2_center_point - x1_center_point\n",
    "    y_translation = y2_center_point - y1_center_point\n",
    "    translation_vecotr = np.array([x_translation, y_translation])\n",
    "    \n",
    "    # ending points of fingerprint 1\n",
    "    end_1 = np.array(end1)[:,1:]\n",
    "    end_2 = np.array(end2)[:,1:]\n",
    "    \n",
    "    # bifucation points of fingerprint 1\n",
    "    bif_1 = np.array(bif1)[:,1:]\n",
    "    bif_2 = np.array(bif2)[:,1:]\n",
    "    \n",
    "    # Translation minutiaes\n",
    "    end_1 = Transtation_Finger(end_1, translation_vecotr)\n",
    "    bif_1 = Transtation_Finger(bif_1, translation_vecotr)\n",
    "    \n",
    "    # Filter minutiaes\n",
    "    new_end_1 = Filter_Points(end_1, centerpoint, size=box_size)\n",
    "    new_bif_1 = Filter_Points(bif_1, centerpoint, size=box_size)\n",
    "    new_end_2 = Filter_Points(end_2, centerpoint, size=box_size)\n",
    "    new_bif_2 = Filter_Points(bif_2, centerpoint, size=box_size)\n",
    "    \n",
    "    n1_end = new_end_1.shape[0]\n",
    "    n1_bif = new_bif_1.shape[0]\n",
    "    n2_end = new_end_2.shape[0]\n",
    "    n2_bif = new_bif_2.shape[0]\n",
    "    \n",
    "    # Match ending points\n",
    "    Distance_end = Points_distance(new_end_1, new_end_2)\n",
    "    end_min_dist = Distance_end.min(axis=0)\n",
    "    end_min_index = Distance_end.argmin(axis=0)\n",
    "    \n",
    "    # Match bifucation points\n",
    "    Distance_bif = Points_distance(new_bif_1, new_bif_2)\n",
    "    bif_min_dist = Distance_bif.min(axis=0)\n",
    "    bif_min_index = Distance_bif.argmin(axis=0)\n",
    "    \n",
    "    # Check Matching\n",
    "    end_matched = np.where(end_min_dist <= 15)[0].shape[0]\n",
    "    bif_matched = np.where(bif_min_dist <= 15)[0].shape[0]\n",
    "    \n",
    "    if (end_matched + bif_matched)/(n1_end + n1_bif) >= alpha:\n",
    "        return True\n",
    "    else:\n",
    "        return False"
   ]
  },
  {
   "cell_type": "code",
   "execution_count": 59,
   "id": "3b5b57dd-3cbb-4c9c-965c-3da5ea72a7e4",
   "metadata": {},
   "outputs": [],
   "source": [
    "box_size = (150, 300)"
   ]
  },
  {
   "cell_type": "code",
   "execution_count": 98,
   "id": "ca2747cd-b3ab-43d3-94fe-344a6ad98da7",
   "metadata": {},
   "outputs": [
    {
     "data": {
      "text/plain": [
       "False"
      ]
     },
     "execution_count": 98,
     "metadata": {},
     "output_type": "execute_result"
    }
   ],
   "source": [
    "MATCH(images[0], images[7], box_size=(150, 300))"
   ]
  },
  {
   "cell_type": "code",
   "execution_count": 100,
   "id": "7712bc70-9399-42a5-a0ab-1184c68efa1f",
   "metadata": {},
   "outputs": [],
   "source": [
    "def Draw_Result():\n",
    "    \"\"\"\n",
    "    \"\"\"\n",
    "    pass"
   ]
  },
  {
   "cell_type": "code",
   "execution_count": 13,
   "id": "5ebc1230-5266-44c3-a397-d2709b7cd178",
   "metadata": {},
   "outputs": [
    {
     "name": "stdout",
     "output_type": "stream",
     "text": [
      "MAS cryptosystem initialization successful!\n",
      "Author: Thanh HoangVan\n",
      "Github: thanhhoangvan\n",
      "+-----------------------------------------+\n"
     ]
    }
   ],
   "source": [
    "import random\n",
    "from itertools import chain\n",
    "# random.seed(9)\n",
    "\n",
    "class MAS:\n",
    "    # Attributes\n",
    "    __A = []\n",
    "    __B = []\n",
    "    __Code = {}\n",
    "    __X = {}\n",
    "    __S = 0b0 # Mask bit string\n",
    "    __k = 0 # unambiguous degree of Language set\n",
    "    __m = 0 # bit length of S\n",
    "    __word_bit = 0 # bit length of code element\n",
    "    __Padding_word = '' # word for pading\n",
    "    \n",
    "    # Constructor\n",
    "    def __init__(self, A, B, Code, X, S, k, PaddingWord):\n",
    "        self.__A = A\n",
    "        self.__B = B\n",
    "        self.__Code = Code\n",
    "        self.__X = X\n",
    "        self.__S = S\n",
    "        self.__k = k \n",
    "        self.__m = len(self.__S) \n",
    "        self.__word_bit = len(list(self.__Code.values())[0])\n",
    "        self.__Padding_word = self.__B.index(PaddingWord)\n",
    "        print(\"MAS cryptosystem initialization successful!\")\n",
    "        print(\"Author: Thanh HoangVan\")\n",
    "        print(\"Github: thanhhoangvan\")\n",
    "        print(\"+-----------------------------------------+\")\n",
    "    \n",
    "    # Methods\n",
    "    def __Msg2Index(self, Msg, Dictionary) -> list:\n",
    "        \"\"\"\n",
    "        Convert index of word to message by dictionary list\n",
    "        ---\n",
    "        Parameters:\n",
    "        - Dictionary: List of all word\n",
    "        - Msg: Message\n",
    "        ---\n",
    "        Return:\n",
    "        - List of index word in message\n",
    "        ---\n",
    "        Example\n",
    "        - Dictionary: ['c', 'a1', 'a2', 'a3', 'b1', 'b2', 'b3', 'b4']\n",
    "        - Message: \"a1a2a3b1\"\n",
    "        - Return: [1, 2, 3, 4]\n",
    "        \"\"\"\n",
    "        if len(Msg) == 0:\n",
    "            raise Exception(\"Message is empty!\")\n",
    "        for i in Dictionary:\n",
    "            Msg = Msg.replace(i, str(Dictionary.index(i)))\n",
    "        return [int(i) for i in Msg]\n",
    "\n",
    "    def __Index2Msg(self, WordIndex, Dictionary) -> str:\n",
    "        \"\"\"\n",
    "        Convert index of word to message by dictionary list\n",
    "        ---\n",
    "        Parameters:\n",
    "        - WordIndex: List of index word\n",
    "        - Dictionary: List of all word\n",
    "        ---\n",
    "        Return:\n",
    "        - Message string\n",
    "        ---\n",
    "        Example\n",
    "        - Dictionary: ['c', 'a1', 'a2', 'a3', 'b1', 'b2', 'b3', 'b4']\n",
    "        - WordIndex: [1, 2, 3, 4]\n",
    "        - Return: \"a1a2a3b1\"\n",
    "        \"\"\"\n",
    "        Msg = \"\"\n",
    "        for i in WordIndex:\n",
    "            Msg = Msg + Dictionary[i]\n",
    "        return Msg\n",
    "    \n",
    "    def __PlainText2Index(self, Msg='') -> list:\n",
    "        \"\"\"\n",
    "        Split the words in the Message into a list of index this word in A\n",
    "        ---\n",
    "        Parameter:\n",
    "        - Msg: a message(string)\n",
    "        ---\n",
    "        Retrun:\n",
    "        - List of words\n",
    "        ---\n",
    "        Example:\n",
    "        >>> A = ['u1', 'u2', 'u3']\n",
    "        >>> __Msg2Index(\"u1u3u2u3\") -> [0, 2, 1, 2]\n",
    "        \"\"\"\n",
    "        if len(Msg) == 0:\n",
    "            raise Exception(\"Message is empty!\")\n",
    "        for i in self.__A:\n",
    "            Msg = Msg.replace(i, str(self.__A.index(i)))\n",
    "        return [int(i) for i in Msg]\n",
    "\n",
    "    def __EncodedMsg2Index(self, EMsg='') -> list:\n",
    "        \"\"\"\n",
    "        \"\"\"\n",
    "        if len(msg) == 0:\n",
    "            raise Exception(\"Encoded message is empty!\")\n",
    "        for i in self.__B:\n",
    "            EMsg = EMsg.replace(i, str(self.__B.index(i)))\n",
    "        return [int(i) for i in EMsg] # split index number to list    \n",
    "\n",
    "    def __EncodedMsg2Binary(self, EMsg='') -> bytes:\n",
    "        \"\"\"\n",
    "        Convert encoded message to binary result\n",
    "        ---\n",
    "        Parameter:\n",
    "        - EMsg: String of encoded message(String)\n",
    "        ---\n",
    "        Result:\n",
    "        - bytes string of result\n",
    "        ---\n",
    "        Example\n",
    "        - Encoded message: 'ca1b1a2'\n",
    "        with {'c': b'110', 'a1':b'001', 'a2':b'010', 'b1':b'100'}\n",
    "        - Result: b'110001100010'\n",
    "        \"\"\"\n",
    "        BinaryResult = b''\n",
    "        if len(msg) == 0:\n",
    "            raise Exception(\"Encoded message is empty!\")\n",
    "        word_index = self.__EncodedMsg2Index(EMsg)\n",
    "        EMsg = [self.__B[i] for i in word_index] # split index number to list\n",
    "        for i in EMsg:\n",
    "            temp = self.__Code[i]\n",
    "            BinaryResult = BinaryResult + temp\n",
    "        return BinaryResult\n",
    "\n",
    "    def __NormalizeLanguage(self) -> list:\n",
    "        \"\"\"\n",
    "        Convet all word in X to list of index word\n",
    "        ---\n",
    "        Example\n",
    "        ---\n",
    "        -  X1 = {'c'}\n",
    "        -  X2 = {'ca1', 'a1b1'}\n",
    "        -  X3 = {'b1a2', 'ca1a3b1'}\n",
    "        -  X4 = {'a2b2'}\n",
    "        -  X5 = {'b2a3', 'a3'}\n",
    "        -  X = [X1, X2, X3, X4, X5]\n",
    "        => Result: X = [[[0]], [[0, 1], [1, 4]], [[0, 1, 3, 4], [4, 2]], [[2, 5]], [[3], [5, 3]]]\n",
    "        \"\"\"\n",
    "        Normlized = []\n",
    "        for i in self.__X:\n",
    "            temp = []\n",
    "            for word in i:\n",
    "                temp.append(self.__Msg2Index(word, self.__B))\n",
    "            Normlized.append(temp)\n",
    "        return Normlized\n",
    "\n",
    "    def __PADDING(self, EMsg) -> list:\n",
    "        \"\"\"\n",
    "        Hàm đệm bit vào chuỗi\n",
    "        \"\"\"\n",
    "        while len(EMsg)*self.__word_bit < self.__m:\n",
    "            EMsg.append(self.__Padding_word)\n",
    "        return EMsg\n",
    "    \n",
    "    def __UNPADDING(self, EMsg) -> list:\n",
    "        \"\"\"\n",
    "        \"\"\"\n",
    "        while self.__Padding_word in EMsg:\n",
    "            EMsg.remove(self.__Padding_word)\n",
    "        return EMsg\n",
    "\n",
    "    def __EXTRACT(self, Encoded_Word) -> list:\n",
    "        \"\"\"\n",
    "        The function parses a list of letters and splits them into words\n",
    "        ---\n",
    "        Parameter:\n",
    "        - Encoded_Word: List of all word in  Encoded Message\n",
    "        ---\n",
    "        Result:\n",
    "        - List of corresponding plaintext words\n",
    "        ---\n",
    "        Example:\n",
    "        ---\n",
    "        - Encoded_Word\n",
    "        [[0, 0, 1, 3, 4, 3], \n",
    "         [4, 2, 2, 5, 5, 3], \n",
    "         [0, 1, 0, 7, 7, 7], \n",
    "         [4, 2, 5, 3, 7, 7]]\n",
    "        - Result:\n",
    "        [[0], [0, 1, 3, 4], [3]]\n",
    "         [[4, 2], [2, 5], [5, 3]]\n",
    "         [[0, 1], [0]]\n",
    "         [[4, 2], [5, 3]]\n",
    "        \"\"\"\n",
    "        Language = list(chain.from_iterable(self.__NormalizeLanguage())) # List of all word in language [[0], [0, 1], [1, 4], [0, 1, 3, 4], [4, 2], [2, 5], [5, 3], [3]] \n",
    "        TMP = []\n",
    "        Solution = []\n",
    "        W = []\n",
    "\n",
    "        def FIND(msg, len_msg, k):\n",
    "            nonlocal W, TMP, Solution\n",
    "            for i in Language:\n",
    "                if len(W) + len(i) <= len_msg:\n",
    "                    W = W + i\n",
    "                    Solution = Solution + [i]\n",
    "                else:\n",
    "                    continue\n",
    "                if (len(W) == len_msg) and (W == msg):\n",
    "                    TMP = TMP + [list(Solution)]\n",
    "                else:\n",
    "                    FIND(msg, len_msg, k+1)\n",
    "                W = W[:-len(i)]\n",
    "                Solution.pop()\n",
    "        \n",
    "        for i in Encoded_Word:\n",
    "            ListChars = self.__UNPADDING(i)\n",
    "            n = len(ListChars)\n",
    "            W = []\n",
    "            Solution = []\n",
    "            FIND(i, n, 1)\n",
    "\n",
    "        return TMP\n",
    "        \n",
    "    def __MASKING(self) -> bytes:\n",
    "        \"\"\"\n",
    "        Hàm thêm lớp mặt nạ vào bit string đầu ra\n",
    "        \"\"\"\n",
    "        pass\n",
    "    \n",
    "    def __e_g(self, k, Language) -> int:\n",
    "        \"\"\"\n",
    "        Encode function\n",
    "        ---\n",
    "        Parameter:\n",
    "        - k: index of Language\n",
    "        - Language: List of Language\n",
    "        ---\n",
    "        Return\n",
    "        ---\n",
    "        - A random element corresponding to the index k\n",
    "        \"\"\"\n",
    "        return random.choice(Language[k]) \n",
    "    \n",
    "    def __d_g(self) -> list:\n",
    "        \"\"\"\n",
    "        \"\"\"\n",
    "        pass\n",
    "    \n",
    "    def Encode(self, Msg=\"\") -> bytes:\n",
    "        \"\"\"\n",
    "        Encryption function\n",
    "        ---\n",
    "        \n",
    "        Parameters\n",
    "        ---\n",
    "        - Msg: Messages to be encrypted\n",
    "        \n",
    "        Return\n",
    "        ---\n",
    "        - BitResult: The binary code of the encrypted message\n",
    "        \n",
    "        Example\n",
    "        ---\n",
    "        \"\"\"\n",
    "        \n",
    "        # Check null message exception\n",
    "        if len(Msg) == 0:\n",
    "            raise Exception(\"Input message is empty!\")\n",
    "        \n",
    "        Language = self.__NormalizeLanguage() # [[[0]], [[1, 4], [0, 1]], [[0, 1, 3, 4], [4, 2]], [[2, 5]], [[3], [5, 3]]]\n",
    "        wordIndex = self.__PlainText2Index(Msg) # [0, 2, 4, 2, 3, 4, 1, 0, 2, 4]\n",
    "\n",
    "        # initialization\n",
    "        W = [] # list of all encode word in encoded msg\n",
    "        i, j = 0, 0 # i_current msg word, j_current block bit of encode word(encoded msg)\n",
    "        n = len(wordIndex) # number of word in message\n",
    "\n",
    "        # main cryptosystem\n",
    "        while True:\n",
    "            #============================================================\n",
    "            if (i >= n):\n",
    "                break # break first while loop\n",
    "\n",
    "            count = 0\n",
    "            temp = [] # Current encoded word\n",
    "            while True:\n",
    "\n",
    "                if (count >= self.__k) or (len(temp)*self.__word_bit == self.__m): # Kiểm tra điều kiện độ dài từ W_j < m\n",
    "                    if len(temp)*self.__word_bit < self.__m:\n",
    "                        temp = self.__PADDING(temp)\n",
    "                    \n",
    "                    # Masking\n",
    "                    # if j == 1:\n",
    "                    #     pass\n",
    "                    # else:\n",
    "                    #     pass\n",
    "                    \n",
    "                    W.append(temp)\n",
    "                    j = j + 1\n",
    "                    break\n",
    "\n",
    "                #============================================================\n",
    "                try:\n",
    "                    newEncodedWord = self.__e_g(wordIndex[i], Language)\n",
    "                    if len(temp + newEncodedWord)*self.__word_bit <= self.__m:\n",
    "                        temp = temp + newEncodedWord\n",
    "                        count = count + 1\n",
    "                        i = i + 1\n",
    "                    else:\n",
    "                        temp = self.__PADDING(temp) \n",
    "                except:\n",
    "                    if len(temp)*self.__word_bit < self.__m:\n",
    "                        temp = self.__PADDING(temp)\n",
    "                    \n",
    "                    # Masking\n",
    "                    # if j == 1:\n",
    "                    #     pass\n",
    "                    # else:\n",
    "                    #     pass\n",
    "                    \n",
    "                    W.append(temp)\n",
    "                    print('-'*20)\n",
    "                    j = j + 1\n",
    "                    break\n",
    "                    \n",
    "                # if len(temp + newEncodedWord)*self.__word_bit <= self.__m:\n",
    "                #     temp = temp + newEncodedWord\n",
    "                #     count = count + 1\n",
    "                #     i = i + 1\n",
    "                # else:\n",
    "                #     temp = self.__PADDING(temp) \n",
    "\n",
    "                #============================================================\n",
    "\n",
    "                print(count, self.__k)\n",
    "                print(temp, '\\n')\n",
    "            print('='*20)\n",
    "\n",
    "        return W\n",
    "    \n",
    "    def Decode(self, EMsg=[]) -> str:\n",
    "        \"\"\"\n",
    "        Decryption function\n",
    "        ---\n",
    "        Parameters\n",
    "        ---\n",
    "        Return\n",
    "        ---\n",
    "        Example\n",
    "        ---\n",
    "        \"\"\"\n",
    "        # Check null message exception\n",
    "        if len(EMsg) == 0:\n",
    "            raise Exception(\"Input message is empty!\")\n",
    "        \n",
    "        Msg = []\n",
    "        i, j = 0, 0\n",
    "        n_word = len(EMsg)  # number of word in encoded message\n",
    "\n",
    "        while True:\n",
    "            \n",
    "            # Unmasking\n",
    "            if j == 0:\n",
    "                # unmasking\n",
    "                pass\n",
    "            else:\n",
    "                # unmasking\n",
    "                pass\n",
    "            \n",
    "            tmp = self.__EXTRACT(EMsg)\n",
    "            return tmp\n",
    "        \n",
    "        \n",
    "\n",
    "if __name__ == '__main__':\n",
    "    # Example Initialization\n",
    "    A = ['0', '1', '2', '3', '4', '5', '6', '7', '8', '9']\n",
    "    B = ['a', 'b', 'c', 'd', 'e', 'f', 'g', 'h', 'i', 'j', 'k', 'l', 'm', 'n','o', 'p']\n",
    "    Code = {'a': b'1000',\n",
    "            'b':b'1110',\n",
    "            'c':b'0011', \n",
    "            'd':b'1111', \n",
    "            'e':b'1101', \n",
    "            'f':b'0010', \n",
    "            'g':b'1100', \n",
    "            'h':b'0101',\n",
    "            'i':b'1011',\n",
    "            'j':b'0000',\n",
    "            'k':b'1001',\n",
    "            'l':b'0111',\n",
    "            'm':b'0100',\n",
    "            'n':b'1010',\n",
    "            'o':b'0001',\n",
    "            'p':b'0110'}\n",
    "    \n",
    "    # Language\n",
    "    X0 = {'abc', 'lco'}\n",
    "    X1 = {'jkl', 'cb', 'defg'}\n",
    "    X2 = {'cad', 'aohk'}\n",
    "    X3 = {'efg', 'gimj'}\n",
    "    X4 = {'hgf', 'ad'}\n",
    "    X5 = {'kjo', 'dgj'}\n",
    "    X6 = {'ged'}\n",
    "    X7 = {'ome', 'nko'}\n",
    "    X8 = {'acb', 'hkm'}\n",
    "    X9 = {'mok'}\n",
    "    X = [X0, X1, X2, X3, X4, X5, X6, X7, X8, X9]\n",
    "    paddingWord = 'p'\n",
    "    k = 3\n",
    "    \n",
    "    # Message\n",
    "    msg = '123456789'\n",
    "    emsg = [[3, 4, 5, 6, 2, 0, 3, 6, 8, 1, 2, 9], [0, 3, 3, 6, 9, 6, 4, 3, 15, 15, 15, 15], [1, 3, 1, 0, 1, 4, 7, 1, 0, 1, 2, 15], [1, 2, 1, 4, 1, 0, 15, 15, 15, 15, 15, 15]]\n",
    "    \n",
    "    # Mask\n",
    "    S = b'101000110110101010001101101000110110101010001101'\n",
    "\n",
    "    #=======================================\n",
    "    Cryptosystem = MAS(A, B, Code, X, S, k, paddingWord)\n",
    "#     print(Cryptosystem.Encode(msg))\n",
    "    msg = Cryptosystem.Decode(emsg)"
   ]
  },
  {
   "cell_type": "code",
   "execution_count": 14,
   "id": "bd8d30aa-926f-4fbf-9783-64bcf2e12b83",
   "metadata": {},
   "outputs": [
    {
     "name": "stdout",
     "output_type": "stream",
     "text": [
      "[[3, 4, 5, 6], [2, 0, 3], [6, 8, 1, 2, 9]]\n",
      "[[0, 3], [3, 6, 9], [6, 4, 3]]\n",
      "[[1, 3, 1, 0, 1, 4], [7, 1, 0, 1, 2]]\n",
      "[[1, 2, 1, 4, 1, 0]]\n"
     ]
    }
   ],
   "source": [
    "for i in msg:\n",
    "    print(i)"
   ]
  },
  {
   "cell_type": "code",
   "execution_count": 15,
   "id": "b3acb8c4-9664-440c-886f-3038729d8418",
   "metadata": {},
   "outputs": [
    {
     "data": {
      "text/plain": [
       "array([[ 3,  4,  5,  6,  2,  0,  3,  6,  8,  1,  2,  9],\n",
       "       [ 0,  3,  3,  6,  9,  6,  4,  3, 15, 15, 15, 15],\n",
       "       [ 1,  3,  1,  0,  1,  4,  7,  1,  0,  1,  2, 15],\n",
       "       [ 1,  2,  1,  4,  1,  0, 15, 15, 15, 15, 15, 15]])"
      ]
     },
     "execution_count": 15,
     "metadata": {},
     "output_type": "execute_result"
    }
   ],
   "source": [
    "np.array([[3, 4, 5, 6, 2, 0, 3, 6, 8, 1, 2, 9], [0, 3, 3, 6, 9, 6, 4, 3, 15, 15, 15, 15], [1, 3, 1, 0, 1, 4, 7, 1, 0, 1, 2, 15], [1, 2, 1, 4, 1, 0, 15, 15, 15, 15, 15, 15]])"
   ]
  },
  {
   "cell_type": "code",
   "execution_count": null,
   "id": "da0bcdaa-21aa-48bc-81fb-e7e4a56ac1ce",
   "metadata": {},
   "outputs": [],
   "source": []
  }
 ],
 "metadata": {
  "kernelspec": {
   "display_name": "Python 3 (ipykernel)",
   "language": "python",
   "name": "python3"
  },
  "language_info": {
   "codemirror_mode": {
    "name": "ipython",
    "version": 3
   },
   "file_extension": ".py",
   "mimetype": "text/x-python",
   "name": "python",
   "nbconvert_exporter": "python",
   "pygments_lexer": "ipython3",
   "version": "3.8.10"
  }
 },
 "nbformat": 4,
 "nbformat_minor": 5
}
