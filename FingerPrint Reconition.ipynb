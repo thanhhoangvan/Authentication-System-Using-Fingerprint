{
 "cells": [
  {
   "cell_type": "code",
   "execution_count": 101,
   "id": "8ed8c33d-9ee3-4e01-93c2-0408780bc7f4",
   "metadata": {
    "tags": []
   },
   "outputs": [],
   "source": [
    "import cv2 as cv\n",
    "from glob import glob\n",
    "import os\n",
    "import numpy as np\n",
    "from utils.poincare import calculate_singularities\n",
    "from utils.segmentation import create_segmented_and_variance_images\n",
    "from utils.normalization import normalize\n",
    "from utils.gabor_filter import gabor_filter\n",
    "from utils.frequency import ridge_freq\n",
    "from utils import orientation\n",
    "from utils.crossing_number import calculate_minutiaes\n",
    "from tqdm import tqdm\n",
    "from utils.skeletonize import skeletonize\n",
    "\n",
    "import matplotlib.pyplot as plt\n",
    "\n",
    "%matplotlib inline"
   ]
  },
  {
   "cell_type": "code",
   "execution_count": 2,
   "id": "8b980d1b-482d-4537-b3d7-cd26f2cc3bb6",
   "metadata": {},
   "outputs": [],
   "source": [
    "def fingerprint_pipline(input_img):\n",
    "    block_size = 16\n",
    "\n",
    "    # pipe line picture re https://www.cse.iitk.ac.in/users/biometrics/pages/111.JPG\n",
    "    # normalization -> orientation -> frequency -> mask -> filtering\n",
    "\n",
    "    # normalization - removes the effects of sensor noise and finger pressure differences.\n",
    "    normalized_img = normalize(input_img.copy(), float(100), float(100))\n",
    "\n",
    "    # color threshold\n",
    "    # threshold_img = normalized_img\n",
    "    # _, threshold_im = cv.threshold(normalized_img,127,255,cv.THRESH_OTSU)\n",
    "    # cv.imshow('color_threshold', normalized_img); cv.waitKeyEx()\n",
    "\n",
    "    # ROI and normalisation\n",
    "    (segmented_img, normim, mask) = create_segmented_and_variance_images(normalized_img, block_size, 0.2)\n",
    "\n",
    "    # orientations\n",
    "    angles = orientation.calculate_angles(normalized_img, W=block_size, smoth=False)\n",
    "    orientation_img = orientation.visualize_angles(segmented_img, mask, angles, W=block_size)\n",
    "    \n",
    "    # find the overall frequency of ridges in Wavelet Domain\n",
    "    freq = ridge_freq(normim, mask, angles, block_size, kernel_size=5, minWaveLength=5, maxWaveLength=15)\n",
    "\n",
    "    # create gabor filter and do the actual filtering\n",
    "    gabor_img = gabor_filter(normim, angles, freq)\n",
    "\n",
    "    # thinning oor skeletonize\n",
    "    thin_image = skeletonize(gabor_img)\n",
    "\n",
    "    # minutias\n",
    "    minutias, end, bif = calculate_minutiaes(thin_image)\n",
    "\n",
    "    # singularities\n",
    "    singularities_img, FingerType = calculate_singularities(thin_image, angles, 1, block_size, mask)\n",
    "\n",
    "    # visualize pipeline stage by stage\n",
    "#     output_imgs = [input_img, normalized_img, segmented_img, orientation_img, gabor_img, thin_image, minutias, singularities_img]\n",
    "    output_imgs = [input_img, minutias, singularities_img]\n",
    "    \n",
    "#     for i in range(len(output_imgs)): # Lặp qua từng ảnh output\n",
    "#         if len(output_imgs[i].shape) == 2: # Nếu ảnh thứ i trong output là ảnh Gray(có 2 chiều)\n",
    "#             output_imgs[i] = cv.cvtColor(output_imgs[i], cv.COLOR_GRAY2RGB) # Chuyển thành ảnh RGB để concatenate với 2 ảnh cuối\n",
    "    \n",
    "    # Chuyển list các ảnh thành ảnh 4x4\n",
    "#     results = np.concatenate([np.concatenate(output_imgs[:4], 1), np.concatenate(output_imgs[4:], 1)]).astype(np.uint8)\n",
    "\n",
    "#     return results\n",
    "    return output_imgs, end, bif, FingerType"
   ]
  },
  {
   "cell_type": "code",
   "execution_count": 3,
   "id": "0d8397c9-7c09-4de8-a84a-731ab93c276a",
   "metadata": {},
   "outputs": [],
   "source": [
    "# open images\n",
    "img_dir = './sample_inputs/*'\n",
    "output_dir = './output/'\n",
    "def open_images(directory):\n",
    "    images_paths = glob(directory)\n",
    "    images_names = [i.split('/')[-1][:-4] for i in images_paths]\n",
    "    return images_names, np.array([cv.imread(img_path,0) for img_path in images_paths])\n",
    "\n",
    "names, images = open_images(img_dir)\n",
    "# image pipeline\n",
    "os.makedirs(output_dir, exist_ok=True)\n",
    "\n",
    "# for i, img in enumerate(tqdm(images)):\n",
    "#     results = fingerprint_pipline(img)\n",
    "    \n",
    "# #     cv.imwrite(output_dir+str(i)+'.png', results)\n",
    "# #     cv.imwrite(output_dir+names[i]+'.png', results)\n",
    "#     cv.imshow('image pipeline', results); cv.waitKeyEx()\n",
    "#     break\n",
    "    \n",
    "# results, end, bif, fingertype = fingerprint_pipline(images[7])\n",
    "# for img in results:\n",
    "#     cv.imshow('image pipeline', img)\n",
    "#     cv.waitKeyEx()\n",
    "#     cv.destroyAllWindows()"
   ]
  },
  {
   "cell_type": "markdown",
   "id": "936d46a0-11ad-4ee9-8f23-c8c6169b2c1d",
   "metadata": {},
   "source": [
    "# Preprocessing before Mathching"
   ]
  },
  {
   "cell_type": "code",
   "execution_count": 4,
   "id": "1ef77fa0-3a5b-47bf-b8f7-7c084b45d8d6",
   "metadata": {},
   "outputs": [],
   "source": [
    "results1, end1, bif1, fingertype1 = fingerprint_pipline(images[0])\n",
    "results2, end2, bif2, fingertype2 = fingerprint_pipline(images[1])"
   ]
  },
  {
   "cell_type": "code",
   "execution_count": 5,
   "id": "4b90f21b-f4d8-4c3f-a004-84309f963815",
   "metadata": {},
   "outputs": [],
   "source": [
    "count = 0\n",
    "for img in results2:\n",
    "#     cv.imshow('image pipeline', img)\n",
    "    cv.imwrite('2-{}.jpg'.format(count), img)\n",
    "    count += 1\n",
    "#     cv.waitKeyEx()\n",
    "#     cv.destroyAllWindows()\n",
    "    \n",
    "# for img in results2:\n",
    "#     cv.imshow('image pipeline', img)\n",
    "#     cv.waitKeyEx()\n",
    "#     cv.destroyAllWindows()"
   ]
  },
  {
   "cell_type": "code",
   "execution_count": 8,
   "id": "535427cf-c3e4-4151-9542-b547a783e20b",
   "metadata": {},
   "outputs": [],
   "source": [
    "# ending points of fingerprint 1\n",
    "x_end_1 = np.array(end1)[:, 1]\n",
    "y_end_1 = np.array(end1)[:, 2]"
   ]
  },
  {
   "cell_type": "code",
   "execution_count": 9,
   "id": "389f75e0-56e9-48bd-8c3b-b574704f63c6",
   "metadata": {},
   "outputs": [],
   "source": [
    "# ending points of fingerprint 2\n",
    "x_end_2 = np.array(end2)[:, 1]\n",
    "y_end_2 = np.array(end2)[:, 2]"
   ]
  },
  {
   "cell_type": "code",
   "execution_count": 10,
   "id": "f5067272-97da-4723-8ed5-0292e586cd09",
   "metadata": {},
   "outputs": [],
   "source": [
    "# bifucation points of fingerprint 1\n",
    "x_bif_1 = np.array(bif1)[:, 1]\n",
    "y_bif_1 = np.array(bif1)[:, 2]"
   ]
  },
  {
   "cell_type": "code",
   "execution_count": 11,
   "id": "53803683-13d4-4d9d-a02f-cba7d8ddf8e2",
   "metadata": {},
   "outputs": [],
   "source": [
    "# bifucation points of fingerprint 2\n",
    "x_bif_2 = np.array(end2)[:, 1]\n",
    "y_bif_2 = np.array(end2)[:, 2]"
   ]
  },
  {
   "cell_type": "code",
   "execution_count": 12,
   "id": "41ef2923-f60d-40de-a040-3c1c3d82f00d",
   "metadata": {},
   "outputs": [],
   "source": [
    "center_point1 = np.array(fingertype1)[:,1:].astype(int).mean(axis=0)\n",
    "y1_center_point, x1_center_point = center_point1[0], center_point1[1]\n",
    "\n",
    "center_point2 = np.array(fingertype2)[:,1:].astype(int).mean(axis=0)\n",
    "y2_center_point, x2_center_point = center_point2[0], center_point2[1]"
   ]
  },
  {
   "cell_type": "code",
   "execution_count": 15,
   "id": "e7a34890-1d19-410d-9570-dbb284fab4ab",
   "metadata": {},
   "outputs": [
    {
     "data": {
      "image/png": "[encoded data removed]",
      "text/plain": [
       "<Figure size 432x288 with 1 Axes>"
      ]
     },
     "metadata": {
      "needs_background": "light"
     },
     "output_type": "display_data"
    }
   ],
   "source": [
    "plt.scatter(x_end_1, y_end_1)\n",
    "plt.scatter(x_end_2, y_end_2)\n",
    "# plt.title('Minutiaes of 2 fingerprint image')\n",
    "plt.axis('scaled')\n",
    "plt.savefig('match1.jpg')"
   ]
  },
  {
   "cell_type": "code",
   "execution_count": 16,
   "id": "e0702019-300c-4af5-b020-79c1dfa9a481",
   "metadata": {},
   "outputs": [
    {
     "data": {
      "text/plain": [
       "<matplotlib.collections.PathCollection at 0x7f24ae7c4d90>"
      ]
     },
     "execution_count": 16,
     "metadata": {},
     "output_type": "execute_result"
    },
    {
     "data": {
      "image/png": "[encoded data removed]",
      "text/plain": [
       "<Figure size 432x288 with 1 Axes>"
      ]
     },
     "metadata": {
      "needs_background": "light"
     },
     "output_type": "display_data"
    }
   ],
   "source": [
    "plt.scatter(x1_center_point, y1_center_point)\n",
    "plt.scatter(x2_center_point, y2_center_point)"
   ]
  },
  {
   "cell_type": "code",
   "execution_count": 17,
   "id": "826a1613-b8ec-42f7-bafd-4d9282b98ef3",
   "metadata": {},
   "outputs": [
    {
     "data": {
      "text/plain": [
       "<matplotlib.image.AxesImage at 0x7f24ae493e50>"
      ]
     },
     "execution_count": 17,
     "metadata": {},
     "output_type": "execute_result"
    },
    {
     "data": {
      "image/png": "[encoded data removed]",
      "text/plain": [
       "<Figure size 432x288 with 1 Axes>"
      ]
     },
     "metadata": {
      "needs_background": "light"
     },
     "output_type": "display_data"
    }
   ],
   "source": [
    "plt.imshow(results1[1] + results2[1])"
   ]
  },
  {
   "cell_type": "code",
   "execution_count": 14,
   "id": "148a026b-e2f4-4735-acf2-8e403fdab262",
   "metadata": {},
   "outputs": [
    {
     "data": {
      "text/plain": [
       "<matplotlib.image.AxesImage at 0x7f7dea894fa0>"
      ]
     },
     "execution_count": 14,
     "metadata": {},
     "output_type": "execute_result"
    },
    {
     "data": {
      "image/png": "[encoded data removed]",
      "text/plain": [
       "<Figure size 432x288 with 1 Axes>"
      ]
     },
     "metadata": {
      "needs_background": "light"
     },
     "output_type": "display_data"
    }
   ],
   "source": [
    "plt.imshow(results1[2] + results2[2])"
   ]
  },
  {
   "cell_type": "code",
   "execution_count": 18,
   "id": "d15fb90c-1cdb-4542-8d23-71295952b3d9",
   "metadata": {},
   "outputs": [],
   "source": [
    "x_translation = x2_center_point - x1_center_point\n",
    "y_translation = y2_center_point - y1_center_point"
   ]
  },
  {
   "cell_type": "code",
   "execution_count": 19,
   "id": "9735ee53-db42-400a-b2d8-797b3686d42e",
   "metadata": {},
   "outputs": [],
   "source": [
    "# ending points of fingerprint 1\n",
    "end_1 = np.array(end1)[:,1:]\n",
    "end_2 = np.array(end2)[:,1:]"
   ]
  },
  {
   "cell_type": "code",
   "execution_count": 20,
   "id": "e436ed47-7e08-4054-a0af-3fc55dfd0f95",
   "metadata": {},
   "outputs": [],
   "source": [
    "# bifucation points of fingerprint 1\n",
    "bif_1 = np.array(bif1)[:,1:]\n",
    "bif_2 = np.array(bif2)[:,1:]"
   ]
  },
  {
   "cell_type": "code",
   "execution_count": 21,
   "id": "ae627318-c921-42a5-8c5f-df15b01cdc67",
   "metadata": {},
   "outputs": [],
   "source": [
    "translation_vecotr = np.array([x_translation, y_translation])"
   ]
  },
  {
   "cell_type": "code",
   "execution_count": 22,
   "id": "76006a35-0ffe-4df5-b39f-df673c911d0e",
   "metadata": {},
   "outputs": [
    {
     "data": {
      "text/plain": [
       "array([-48., -32.])"
      ]
     },
     "execution_count": 22,
     "metadata": {},
     "output_type": "execute_result"
    }
   ],
   "source": [
    "translation_vecotr"
   ]
  },
  {
   "cell_type": "code",
   "execution_count": 23,
   "id": "d31f8694-1ad2-417c-b5be-4efec7950de7",
   "metadata": {},
   "outputs": [],
   "source": [
    "new_end_1 = end_1 + translation_vecotr\n",
    "new_bif_1 = bif_1 + translation_vecotr"
   ]
  },
  {
   "cell_type": "code",
   "execution_count": 24,
   "id": "6d2ea2bf-3799-4515-8108-41f44e18d261",
   "metadata": {},
   "outputs": [
    {
     "data": {
      "image/png": "[encoded data removed]",
      "text/plain": [
       "<Figure size 432x288 with 1 Axes>"
      ]
     },
     "metadata": {
      "needs_background": "light"
     },
     "output_type": "display_data"
    }
   ],
   "source": [
    "plt.scatter(new_end_1[:, 0], new_end_1[:, 1])\n",
    "plt.scatter(end_2[:, 0], end_2[:, 1])\n",
    "# plt.title('Minutiaes of 2 fingerprint image')\n",
    "plt.axis('scaled')\n",
    "plt.savefig('match2.jpg')"
   ]
  },
  {
   "cell_type": "code",
   "execution_count": 22,
   "id": "133974e9-07ed-4900-b992-44f1ab32772c",
   "metadata": {},
   "outputs": [
    {
     "data": {
      "text/plain": [
       "(-47.15, 286.15, 20.299999999999997, 563.7)"
      ]
     },
     "execution_count": 22,
     "metadata": {},
     "output_type": "execute_result"
    },
    {
     "data": {
      "image/png": "[encoded data removed]",
      "text/plain": [
       "<Figure size 432x288 with 1 Axes>"
      ]
     },
     "metadata": {
      "needs_background": "light"
     },
     "output_type": "display_data"
    }
   ],
   "source": [
    "plt.scatter(new_bif_1[:, 0], new_bif_1[:, 1])\n",
    "plt.scatter(bif_2[:, 0], bif_2[:, 1])\n",
    "plt.axis('scaled')"
   ]
  },
  {
   "cell_type": "code",
   "execution_count": 23,
   "id": "63375ff7-63ed-44c8-a9c3-93041889dfa1",
   "metadata": {},
   "outputs": [
    {
     "data": {
      "text/plain": [
       "'Center Point of finger1: (288.0, 184.0)'"
      ]
     },
     "execution_count": 23,
     "metadata": {},
     "output_type": "execute_result"
    }
   ],
   "source": [
    "\"Center Point of finger1: ({}, {})\".format(x1_center_point, y1_center_point)"
   ]
  },
  {
   "cell_type": "code",
   "execution_count": 24,
   "id": "6b165808-b82f-494a-8af6-f88a8f0d39c7",
   "metadata": {},
   "outputs": [
    {
     "data": {
      "text/plain": [
       "'Center Point of finger2: (240.0, 152.0)'"
      ]
     },
     "execution_count": 24,
     "metadata": {},
     "output_type": "execute_result"
    }
   ],
   "source": [
    "\"Center Point of finger2: ({}, {})\".format(x2_center_point, y2_center_point)"
   ]
  },
  {
   "cell_type": "code",
   "execution_count": 25,
   "id": "d82caad3-7861-4395-b2f9-8eba3b806bd0",
   "metadata": {},
   "outputs": [
    {
     "data": {
      "text/plain": [
       "'Center Point of finger1 moved: (240.0, 152.0)'"
      ]
     },
     "execution_count": 25,
     "metadata": {},
     "output_type": "execute_result"
    }
   ],
   "source": [
    "\"Center Point of finger1 moved: ({}, {})\".format(x1_center_point + translation_vecotr[0], y1_center_point + translation_vecotr[1])"
   ]
  },
  {
   "cell_type": "code",
   "execution_count": null,
   "id": "cf2b9bb5-7b5f-4bf9-bb52-cea174a52d44",
   "metadata": {},
   "outputs": [],
   "source": []
  },
  {
   "cell_type": "markdown",
   "id": "d5ba9d5e-6845-4b7f-91d2-adbb3e587591",
   "metadata": {},
   "source": [
    "# Matching"
   ]
  },
  {
   "cell_type": "code",
   "execution_count": 33,
   "id": "a0677a12-e959-4888-8710-9be0ba2408ec",
   "metadata": {},
   "outputs": [],
   "source": [
    "import cv2 as cv\n",
    "from glob import glob\n",
    "import os\n",
    "import numpy as np\n",
    "from utils.poincare import calculate_singularities\n",
    "from utils.segmentation import create_segmented_and_variance_images\n",
    "from utils.normalization import normalize\n",
    "from utils.gabor_filter import gabor_filter\n",
    "from utils.frequency import ridge_freq\n",
    "from utils import orientation\n",
    "from utils.crossing_number import calculate_minutiaes\n",
    "from utils.skeletonize import skeletonize\n",
    "\n",
    "from MyMAS import MAS"
   ]
  },
  {
   "cell_type": "code",
   "execution_count": 2,
   "id": "dcdd3373-e263-4048-8ac9-263574d83ccb",
   "metadata": {},
   "outputs": [],
   "source": [
    "def fingerprint_pipline(input_img):\n",
    "    block_size = 16\n",
    "\n",
    "    # pipe line picture re https://www.cse.iitk.ac.in/users/biometrics/pages/111.JPG\n",
    "    # normalization -> orientation -> frequency -> mask -> filtering\n",
    "\n",
    "    # normalization - removes the effects of sensor noise and finger pressure differences.\n",
    "    normalized_img = normalize(input_img.copy(), float(100), float(100))\n",
    "\n",
    "    # color threshold\n",
    "    # threshold_img = normalized_img\n",
    "    # _, threshold_im = cv.threshold(normalized_img,127,255,cv.THRESH_OTSU)\n",
    "    # cv.imshow('color_threshold', normalized_img); cv.waitKeyEx()\n",
    "\n",
    "    # ROI and normalisation\n",
    "    (segmented_img, normim, mask) = create_segmented_and_variance_images(normalized_img, block_size, 0.2)\n",
    "\n",
    "    # orientations\n",
    "    angles = orientation.calculate_angles(normalized_img, W=block_size, smoth=False)\n",
    "    orientation_img = orientation.visualize_angles(segmented_img, mask, angles, W=block_size)\n",
    "    \n",
    "    # find the overall frequency of ridges in Wavelet Domain\n",
    "    freq = ridge_freq(normim, mask, angles, block_size, kernel_size=5, minWaveLength=5, maxWaveLength=15)\n",
    "\n",
    "    # create gabor filter and do the actual filtering\n",
    "    gabor_img = gabor_filter(normim, angles, freq)\n",
    "\n",
    "    # thinning oor skeletonize\n",
    "    thin_image = skeletonize(gabor_img)\n",
    "\n",
    "    # minutias\n",
    "    minutias, end, bif = calculate_minutiaes(thin_image)\n",
    "\n",
    "    # singularities\n",
    "    singularities_img, FingerType = calculate_singularities(thin_image, angles, 1, block_size, mask)\n",
    "\n",
    "    # visualize pipeline stage by stage\n",
    "#     output_imgs = [input_img, normalized_img, segmented_img, orientation_img, gabor_img, thin_image, minutias, singularities_img]\n",
    "    output_imgs = [input_img, minutias, singularities_img]\n",
    "    \n",
    "#     for i in range(len(output_imgs)): # Lặp qua từng ảnh output\n",
    "#         if len(output_imgs[i].shape) == 2: # Nếu ảnh thứ i trong output là ảnh Gray(có 2 chiều)\n",
    "#             output_imgs[i] = cv.cvtColor(output_imgs[i], cv.COLOR_GRAY2RGB) # Chuyển thành ảnh RGB để concatenate với 2 ảnh cuối\n",
    "    \n",
    "    # Chuyển list các ảnh thành ảnh 4x4\n",
    "#     results = np.concatenate([np.concatenate(output_imgs[:4], 1), np.concatenate(output_imgs[4:], 1)]).astype(np.uint8)\n",
    "\n",
    "#     return results\n",
    "    return output_imgs, end, bif, FingerType"
   ]
  },
  {
   "cell_type": "code",
   "execution_count": 5,
   "id": "e8650c1f-3191-4be4-8b20-d3c4ec2dbcdf",
   "metadata": {},
   "outputs": [],
   "source": [
    "def DISTANCE(U, V) -> float:\n",
    "    \"\"\"\n",
    "    \"\"\"\n",
    "    return np.sqrt((U[0] - V[0])**2 + (U[1] - V[1])**2)"
   ]
  },
  {
   "cell_type": "code",
   "execution_count": 6,
   "id": "397a7ffe-a0f0-4674-ad67-ed44b2e527a9",
   "metadata": {},
   "outputs": [],
   "source": [
    "def Points_distance(points1, points2) -> list:\n",
    "    n = points1.shape[0]\n",
    "    m = points2.shape[0]\n",
    "    Distance = np.zeros((n, m))\n",
    "    for i in range(n):\n",
    "        for j in range(m):\n",
    "            Distance[i, j] = DISTANCE(points1[i], points2[j])\n",
    "    return Distance"
   ]
  },
  {
   "cell_type": "code",
   "execution_count": 7,
   "id": "ff5070b6-1e23-42da-a7a0-5711da06ec85",
   "metadata": {},
   "outputs": [],
   "source": [
    "def Filter_Points(ListPoints, CenterPoint, size = (0,0)):\n",
    "    \"\"\"\n",
    "    \"\"\"\n",
    "    n = ListPoints.shape[0]\n",
    "    ResultPoints = []\n",
    "    for i in range(n):\n",
    "        distance = np.abs(CenterPoint - ListPoints[i])\n",
    "        if (distance[0] <= size[0]/2) and (distance[1] <= size[1]/2):\n",
    "            ResultPoints.append(ListPoints[i].tolist())\n",
    "    return np.array(ResultPoints)"
   ]
  },
  {
   "cell_type": "code",
   "execution_count": 8,
   "id": "bfce95b4-f9a9-4d18-ac2c-809c09a120b4",
   "metadata": {},
   "outputs": [],
   "source": [
    "def Transtation_Finger(Minutiae, Trans_Vector) -> np.ndarray:\n",
    "    \"\"\"\n",
    "    \"\"\"\n",
    "    return Minutiae + Trans_Vector"
   ]
  },
  {
   "cell_type": "code",
   "execution_count": 9,
   "id": "d36d52c7-f3e8-444e-a66c-a4e531fed147",
   "metadata": {},
   "outputs": [],
   "source": [
    "def MATCH(finger1, finger2, alpha=0.5, box_size=(0, 0)) -> bool:\n",
    "    \"\"\"\n",
    "    \"\"\"\n",
    "    # Get feature\n",
    "    center_point1, end_1, bif_1 = finger1[0], finger1[1], finger1[2]\n",
    "    center_point2, end_2, bif_2 = finger2[0], finger2[1], finger2[2]\n",
    "    \n",
    "    translation_vector = center_point2 - center_point1\n",
    "    \n",
    "    # Translation minutiaes\n",
    "    end_1 = Transtation_Finger(end_1, translation_vector)\n",
    "    bif_1 = Transtation_Finger(bif_1, translation_vector)\n",
    "    \n",
    "    # Filter minutiaes\n",
    "    new_end_1 = Filter_Points(end_1, center_point2, size=box_size)\n",
    "    new_bif_1 = Filter_Points(bif_1, center_point2, size=box_size)\n",
    "    new_end_2 = Filter_Points(end_2, center_point2, size=box_size)\n",
    "    new_bif_2 = Filter_Points(bif_2, center_point2, size=box_size)\n",
    "    \n",
    "    n1_end = new_end_1.shape[0]\n",
    "    n1_bif = new_bif_1.shape[0]\n",
    "    n2_end = new_end_2.shape[0]\n",
    "    n2_bif = new_bif_2.shape[0]\n",
    "    \n",
    "    # Match ending points\n",
    "    Distance_end = Points_distance(new_end_1, new_end_2)\n",
    "    end_min_dist = Distance_end.min(axis=0)\n",
    "    end_min_index = Distance_end.argmin(axis=0)\n",
    "    \n",
    "    # Match bifucation points\n",
    "    Distance_bif = Points_distance(new_bif_1, new_bif_2)\n",
    "    bif_min_dist = Distance_bif.min(axis=0)\n",
    "    bif_min_index = Distance_bif.argmin(axis=0)\n",
    "    \n",
    "    # Check Matching\n",
    "    end_matched = np.where(end_min_dist <= 15)[0].shape[0]\n",
    "    bif_matched = np.where(bif_min_dist <= 15)[0].shape[0]\n",
    "    \n",
    "    if (end_matched + bif_matched)/(n1_end + n1_bif) >= alpha:\n",
    "        return True\n",
    "    else:\n",
    "        return False"
   ]
  },
  {
   "cell_type": "code",
   "execution_count": 10,
   "id": "3b5b57dd-3cbb-4c9c-965c-3da5ea72a7e4",
   "metadata": {},
   "outputs": [],
   "source": [
    "box_size = (150, 300)"
   ]
  },
  {
   "cell_type": "code",
   "execution_count": 75,
   "id": "ca2747cd-b3ab-43d3-94fe-344a6ad98da7",
   "metadata": {},
   "outputs": [],
   "source": [
    "# MATCH(images[0], images[2], box_size=(150, 300))"
   ]
  },
  {
   "cell_type": "code",
   "execution_count": 11,
   "id": "7712bc70-9399-42a5-a0ab-1184c68efa1f",
   "metadata": {},
   "outputs": [],
   "source": [
    "def Draw_Result():\n",
    "    \"\"\"\n",
    "    \"\"\"\n",
    "    pass"
   ]
  },
  {
   "cell_type": "code",
   "execution_count": 12,
   "id": "f17cb494-6b3d-4e70-89ce-847c1cc95dcc",
   "metadata": {},
   "outputs": [],
   "source": [
    "def FeaturesExtraction(finger):\n",
    "    \"\"\"\n",
    "    \"\"\"\n",
    "    imgresult, end, bif, fingertype = fingerprint_pipline(finger)\n",
    "    center_point = np.array(fingertype)[:,1:].astype(int).mean(axis=0)\n",
    "    \n",
    "    end = np.array(end)[:,1:]\n",
    "    bif = np.array(bif)[:,1:]\n",
    "    \n",
    "    return [center_point, end, bif]"
   ]
  },
  {
   "cell_type": "code",
   "execution_count": 74,
   "id": "8b59ada2-5f0c-4fb5-a38f-ff842301f08c",
   "metadata": {},
   "outputs": [],
   "source": [
    "# finger1 = FeaturesExtraction(images[0])\n",
    "# finger2 = FeaturesExtraction(images[3])"
   ]
  },
  {
   "cell_type": "code",
   "execution_count": 72,
   "id": "42f6e5d5-dbc2-4f9d-95b0-81e11084a7af",
   "metadata": {},
   "outputs": [],
   "source": [
    "# MATCH(finger1, finger2, box_size=(150,300))"
   ]
  },
  {
   "cell_type": "code",
   "execution_count": 13,
   "id": "f57368c1-32d2-4aee-8685-185652e25eb8",
   "metadata": {},
   "outputs": [],
   "source": [
    "def S_Generation(PIN, lenMask) -> str:\n",
    "    \"\"\"\n",
    "    \"\"\"\n",
    "    S = bin(PIN)[2:]\n",
    "    n = len(S)\n",
    "    k = lenMask//n\n",
    "    \n",
    "    return S*k + S[:lenMask - n*k]\n",
    "    "
   ]
  },
  {
   "cell_type": "code",
   "execution_count": 14,
   "id": "8cf15289-77a2-44ca-b117-b2ab0b2e5a57",
   "metadata": {},
   "outputs": [],
   "source": [
    "def Features2Msg(features):\n",
    "    \"\"\"\n",
    "    \"\"\"\n",
    "    center, end, bif = features[0].astype(int), features[1].astype(int), features[2].astype(int)\n",
    "    \n",
    "    center_msg = \"{:3d}{:3d}\".format(center[0], center[1]).replace(' ', '0')\n",
    "    \n",
    "    n = end.shape[0]\n",
    "    m = bif.shape[0]\n",
    "    \n",
    "    end_msg = ''\n",
    "    for point in end:\n",
    "        end_msg += \"{:3}{:3}\".format(point[0], point[1]).replace(' ', '0')\n",
    "    \n",
    "    bif_msg = ''\n",
    "    for point in bif:\n",
    "        bif_msg += \"{:3}{:3}\".format(point[0], point[1]).replace(' ', '0')\n",
    "    \n",
    "    return \"{}{:3}{:3}{}{}\".format(center_msg, n, m, end_msg, bif_msg).replace(' ', '0')\n",
    "    "
   ]
  },
  {
   "cell_type": "code",
   "execution_count": 161,
   "id": "23955e01-dd53-496b-9052-4fd632f6cef1",
   "metadata": {},
   "outputs": [],
   "source": [
    "#Features2Msg(finger1)"
   ]
  },
  {
   "cell_type": "code",
   "execution_count": 15,
   "id": "da0bcdaa-21aa-48bc-81fb-e7e4a56ac1ce",
   "metadata": {},
   "outputs": [],
   "source": [
    "def EncryptFinger(finger, PIN, A, B, X, Code, lenMask, k, padWord):\n",
    "    \"\"\"\n",
    "    \"\"\"\n",
    "    # generation S\n",
    "#     S = S_Generation(PIN, lenMask)\n",
    "    S = b'10001101101011101000100011011010111010001110100011101000'\n",
    "    print('generation Mask successful!')\n",
    "    \n",
    "    Msg = Features2Msg(finger)\n",
    "    print('generation Msg successful!')\n",
    "    \n",
    "    cryptosystem = MAS(A, B, Code, X, S, k, padWord)\n",
    "    \n",
    "    EMsg = cryptosystem.Encode(Msg)\n",
    "    print('Encode successful!')\n",
    "    \n",
    "    return EMsg"
   ]
  },
  {
   "cell_type": "code",
   "execution_count": 93,
   "id": "ebd466e0-fa14-49b3-98be-0342d9fd8ce5",
   "metadata": {},
   "outputs": [],
   "source": [
    "def Emsg2Features(EMsg, PIN, A, B, X, Code, lenMask, k, padWord):\n",
    "    \"\"\"\n",
    "    \"\"\"\n",
    "    end = []\n",
    "    bif = []\n",
    "    \n",
    "    S = b'10001101101011101000100011011010111010001110100011101000'\n",
    "    print('generation Mask successful!')\n",
    "    \n",
    "    cryptosystem = MAS(A, B, Code, X, S, k, padWord)\n",
    "    \n",
    "    Result =  \"\".join(cryptosystem.Decode(EMsg))\n",
    "    \n",
    "    CenterPoint = np.array([Result[:3], Result[3:6]]).astype(int)\n",
    "    n, m = int(Result[6:9]), int(Result[9: 12])\n",
    "    \n",
    "    t = 12\n",
    "    for i in range(n):\n",
    "        end.append([int(Result[t: t+3]), int(Result[t+3: t+6])])\n",
    "        t += 6\n",
    "    for i in range(m):\n",
    "        bif.append([int(Result[t: t+3]), int(Result[t+3: t+6])])\n",
    "        t += 6\n",
    "    return [np.array(CenterPoint), np.array(end), np.array(bif)]"
   ]
  },
  {
   "cell_type": "code",
   "execution_count": 112,
   "id": "af17e319-da46-4c9e-b4ee-2c8d841d6913",
   "metadata": {},
   "outputs": [],
   "source": [
    "# PIN = 999999\n",
    "\n",
    "# S = S_Generation(PIN, 56)\n",
    "# print(S, '\\n', len(S))"
   ]
  },
  {
   "cell_type": "code",
   "execution_count": 58,
   "id": "2faeff01-c4c9-4c97-800e-5570c3b7015b",
   "metadata": {},
   "outputs": [],
   "source": [
    "# Config Cryptosystem\n",
    "PIN = 123456\n",
    "lenMask = 56\n",
    "\n",
    "# Example Initialization\n",
    "A = ['0', '1', '2', '3', '4', '5', '6', '7', '8', '9']\n",
    "B = ['a', 'b', 'c', 'd', 'e', 'f', 'g', 'h', 'i', 'j', 'k', 'l', 'm', 'n','o', 'p']\n",
    "Code = {'a': b'1000',\n",
    "        'b': b'1110',\n",
    "        'c': b'0011', \n",
    "        'd': b'1111', \n",
    "        'e': b'1101', \n",
    "        'f': b'0010', \n",
    "        'g': b'1100', \n",
    "        'h': b'0101',\n",
    "        'i': b'1011',\n",
    "        'j': b'0000',\n",
    "        'k': b'1001',\n",
    "        'l': b'0111',\n",
    "        'm': b'0100',\n",
    "        'n': b'1010',\n",
    "        'o': b'0001',\n",
    "        'p': b'0110'}\n",
    "\n",
    "# Language\n",
    "X0 = ['a', 'cgh']\n",
    "X1 = ['egm', 'nmc']\n",
    "X2 = ['ig', 'fce']\n",
    "X3 = ['jkd']\n",
    "X4 = ['bea', 'mok']\n",
    "X5 = ['fno', 'ihc']\n",
    "X6 = ['cei']\n",
    "X7 = ['demc', 'khm']\n",
    "X8 = ['lbkh']\n",
    "X9 = ['kog', 'dcef']\n",
    "X = [X0, X1, X2, X3, X4, X5, X6, X7, X8, X9]\n",
    "paddingWord = 'p'\n",
    "k = 3"
   ]
  },
  {
   "cell_type": "code",
   "execution_count": 59,
   "id": "bf3c885c-b87a-4c9c-ae1f-3371711fd334",
   "metadata": {},
   "outputs": [],
   "source": [
    "finger = FeaturesExtraction(images[0])"
   ]
  },
  {
   "cell_type": "code",
   "execution_count": 60,
   "id": "5e224457-0d20-4d6f-8fd0-8c9e1a82ff63",
   "metadata": {},
   "outputs": [],
   "source": [
    "Msg = Features2Msg(finger)"
   ]
  },
  {
   "cell_type": "code",
   "execution_count": 61,
   "id": "af5b9f14-6768-4f49-ada7-7d6d3f311ae4",
   "metadata": {},
   "outputs": [
    {
     "data": {
      "text/plain": [
       "'184288166026015170015182015200015219015244015270015295015305015330015359015389016302018135018149018163018421018427019433022131024421025438026445027434032446034103034114034472036458038099038468039474040446041462043454044358046428050087050480052480054210054483055256057494058080059479061079061168061401062078062481063491064333066072075066078448079471080251080506095530096110096174096524098536099056100113101302108539114500115540116050119533123381130191132206132371132456133143137355139409139495141337144448145345146176151126156303157181158238160349161153161446163473164050171478173057185536187315189335190309190494191256191265192270195320195521196141198317200210202333202481208356211192214545217069219155220457221537224075225541228079231083233318234527235400235538237164240528241354241524245082246307248211251524252085252230254133255091256111259513262351263287264423267506269121269500273499279153280475280490281138281146281164281181281200281215281228281247281267281289281316281397281414281432281445281460281484016175032407043440065488081344089512095527096527100354157235159148159153160231184270190258192320193249194302194335201317206354223077226532252095256369277489'"
      ]
     },
     "execution_count": 61,
     "metadata": {},
     "output_type": "execute_result"
    }
   ],
   "source": [
    "Msg"
   ]
  },
  {
   "cell_type": "code",
   "execution_count": 62,
   "id": "bd0cd194-4eca-430f-8a4d-480196f88a16",
   "metadata": {},
   "outputs": [
    {
     "name": "stdout",
     "output_type": "stream",
     "text": [
      "generation Mask successful!\n",
      "generation Msg successful!\n",
      "MAS cryptosystem initialization successful!\n",
      "Author: Thanh HoangVan\n",
      "Github: thanhhoangvan\n",
      "+-----------------------------------------+\n",
      "Encode successful!\n"
     ]
    }
   ],
   "source": [
    "EMsg = EncryptFinger(finger, PIN, A, B, X, Code, lenMask, k, paddingWord)"
   ]
  },
  {
   "cell_type": "code",
   "execution_count": 98,
   "id": "ce4f119c-f0b6-4c5f-a2d7-d10d0bd48982",
   "metadata": {},
   "outputs": [
    {
     "name": "stdout",
     "output_type": "stream",
     "text": [
      "generation Mask successful!\n",
      "MAS cryptosystem initialization successful!\n",
      "Author: Thanh HoangVan\n",
      "Github: thanhhoangvan\n",
      "+-----------------------------------------+\n"
     ]
    }
   ],
   "source": [
    "finger_origin = Emsg2Features(EMsg, PIN, A, B, X, Code, lenMask, k, paddingWord)"
   ]
  },
  {
   "cell_type": "code",
   "execution_count": 108,
   "id": "4323dd6e-6dc6-4127-a3a5-4401fb118be8",
   "metadata": {},
   "outputs": [],
   "source": [
    "finger_match = FeaturesExtraction(images[7])"
   ]
  },
  {
   "cell_type": "code",
   "execution_count": 109,
   "id": "bb9ae3b1-e2fc-47f2-b9aa-b6cb12a63e30",
   "metadata": {},
   "outputs": [
    {
     "data": {
      "text/plain": [
       "False"
      ]
     },
     "execution_count": 109,
     "metadata": {},
     "output_type": "execute_result"
    }
   ],
   "source": [
    "MATCH(finger_origin, finger_match, box_size=(150, 300))"
   ]
  },
  {
   "cell_type": "code",
   "execution_count": null,
   "id": "58b857f5-8987-4a65-90d7-f20976891399",
   "metadata": {},
   "outputs": [],
   "source": []
  }
 ],
 "metadata": {
  "kernelspec": {
   "display_name": "Python 3 (ipykernel)",
   "language": "python",
   "name": "python3"
  },
  "language_info": {
   "codemirror_mode": {
    "name": "ipython",
    "version": 3
   },
   "file_extension": ".py",
   "mimetype": "text/x-python",
   "name": "python",
   "nbconvert_exporter": "python",
   "pygments_lexer": "ipython3",
   "version": "3.8.10"
  }
 },
 "nbformat": 4,
 "nbformat_minor": 5
}
