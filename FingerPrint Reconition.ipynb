{
 "cells": [
  {
   "cell_type": "code",
   "execution_count": 1,
   "id": "8ed8c33d-9ee3-4e01-93c2-0408780bc7f4",
   "metadata": {},
   "outputs": [
    {
     "name": "stderr",
     "output_type": "stream",
     "text": [
      "/mnt/sdb3/TEST/fingerprint_recognition/venv/lib/python3.8/site-packages/scipy/__init__.py:146: UserWarning: A NumPy version >=1.16.5 and <1.23.0 is required for this version of SciPy (detected version 1.16.3\n",
      "  warnings.warn(f\"A NumPy version >={np_minversion} and <{np_maxversion}\"\n"
     ]
    }
   ],
   "source": [
    "import cv2 as cv\n",
    "from glob import glob\n",
    "import os\n",
    "import numpy as np\n",
    "from utils.poincare import calculate_singularities\n",
    "from utils.segmentation import create_segmented_and_variance_images\n",
    "from utils.normalization import normalize\n",
    "from utils.gabor_filter import gabor_filter\n",
    "from utils.frequency import ridge_freq\n",
    "from utils import orientation\n",
    "from utils.crossing_number import calculate_minutiaes\n",
    "from tqdm import tqdm\n",
    "from utils.skeletonize import skeletonize"
   ]
  },
  {
   "cell_type": "code",
   "execution_count": 2,
   "id": "8b980d1b-482d-4537-b3d7-cd26f2cc3bb6",
   "metadata": {},
   "outputs": [],
   "source": [
    "def fingerprint_pipline(input_img):\n",
    "    block_size = 16\n",
    "\n",
    "    # pipe line picture re https://www.cse.iitk.ac.in/users/biometrics/pages/111.JPG\n",
    "    # normalization -> orientation -> frequency -> mask -> filtering\n",
    "\n",
    "    # normalization - removes the effects of sensor noise and finger pressure differences.\n",
    "    normalized_img = normalize(input_img.copy(), float(100), float(100))\n",
    "\n",
    "    # color threshold\n",
    "    # threshold_img = normalized_img\n",
    "    # _, threshold_im = cv.threshold(normalized_img,127,255,cv.THRESH_OTSU)\n",
    "    # cv.imshow('color_threshold', normalized_img); cv.waitKeyEx()\n",
    "\n",
    "    # ROI and normalisation\n",
    "    (segmented_img, normim, mask) = create_segmented_and_variance_images(normalized_img, block_size, 0.2)\n",
    "\n",
    "    # orientations\n",
    "    angles = orientation.calculate_angles(normalized_img, W=block_size, smoth=False)\n",
    "    orientation_img = orientation.visualize_angles(segmented_img, mask, angles, W=block_size)\n",
    "\n",
    "    # find the overall frequency of ridges in Wavelet Domain\n",
    "    freq = ridge_freq(normim, mask, angles, block_size, kernel_size=5, minWaveLength=5, maxWaveLength=15)\n",
    "\n",
    "    # create gabor filter and do the actual filtering\n",
    "    gabor_img = gabor_filter(normim, angles, freq)\n",
    "\n",
    "    # thinning oor skeletonize\n",
    "    thin_image = skeletonize(gabor_img)\n",
    "\n",
    "    # minutias\n",
    "    minutias = calculate_minutiaes(thin_image)\n",
    "\n",
    "    # singularities\n",
    "    singularities_img = calculate_singularities(thin_image, angles, 1, block_size, mask)\n",
    "\n",
    "    # visualize pipeline stage by stage\n",
    "    output_imgs = [input_img, normalized_img, segmented_img, orientation_img, gabor_img, thin_image, minutias, singularities_img]\n",
    "    for i in range(len(output_imgs)):\n",
    "        if len(output_imgs[i].shape) == 2:\n",
    "            output_imgs[i] = cv.cvtColor(output_imgs[i], cv.COLOR_GRAY2RGB)\n",
    "    results = np.concatenate([np.concatenate(output_imgs[:4], 1), np.concatenate(output_imgs[4:], 1)]).astype(np.uint8)\n",
    "\n",
    "    return results"
   ]
  },
  {
   "cell_type": "code",
   "execution_count": 12,
   "id": "0d8397c9-7c09-4de8-a84a-731ab93c276a",
   "metadata": {},
   "outputs": [
    {
     "name": "stderr",
     "output_type": "stream",
     "text": [
      "100%|███████████████████████████████████████████| 34/34 [02:09<00:00,  3.82s/it]\n"
     ]
    }
   ],
   "source": [
    "# open images\n",
    "img_dir = './sample_inputs/*'\n",
    "output_dir = './output/'\n",
    "def open_images(directory):\n",
    "    images_paths = glob(directory)\n",
    "    images_names = [i.split('/')[-1][:-4] for i in images_paths]\n",
    "    return images_names, np.array([cv.imread(img_path,0) for img_path in images_paths])\n",
    "\n",
    "names, images = open_images(img_dir)\n",
    "# image pipeline\n",
    "os.makedirs(output_dir, exist_ok=True)\n",
    "for i, img in enumerate(tqdm(images)):\n",
    "    results = fingerprint_pipline(img)\n",
    "#     cv.imwrite(output_dir+str(i)+'.png', results)\n",
    "    cv.imwrite(output_dir+names[i]+'.png', results)\n",
    "#     cv.imshow('image pipeline', results); cv.waitKeyEx()\n"
   ]
  },
  {
   "cell_type": "markdown",
   "id": "936d46a0-11ad-4ee9-8f23-c8c6169b2c1d",
   "metadata": {},
   "source": [
    "# Mathching"
   ]
  },
  {
   "cell_type": "code",
   "execution_count": null,
   "id": "751b8809-e308-474b-80bf-df0985e3c2f2",
   "metadata": {},
   "outputs": [],
   "source": []
  },
  {
   "cell_type": "code",
   "execution_count": null,
   "id": "1ef77fa0-3a5b-47bf-b8f7-7c084b45d8d6",
   "metadata": {},
   "outputs": [],
   "source": []
  },
  {
   "cell_type": "code",
   "execution_count": null,
   "id": "4b90f21b-f4d8-4c3f-a004-84309f963815",
   "metadata": {},
   "outputs": [],
   "source": []
  },
  {
   "cell_type": "code",
   "execution_count": null,
   "id": "535427cf-c3e4-4151-9542-b547a783e20b",
   "metadata": {},
   "outputs": [],
   "source": []
  }
 ],
 "metadata": {
  "kernelspec": {
   "display_name": "Python 3 (ipykernel)",
   "language": "python",
   "name": "python3"
  },
  "language_info": {
   "codemirror_mode": {
    "name": "ipython",
    "version": 3
   },
   "file_extension": ".py",
   "mimetype": "text/x-python",
   "name": "python",
   "nbconvert_exporter": "python",
   "pygments_lexer": "ipython3",
   "version": "3.8.10"
  }
 },
 "nbformat": 4,
 "nbformat_minor": 5
}
