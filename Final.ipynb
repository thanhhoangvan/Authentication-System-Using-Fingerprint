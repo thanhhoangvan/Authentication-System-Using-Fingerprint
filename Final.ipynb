{
 "cells": [
  {
   "cell_type": "code",
   "execution_count": 1,
   "id": "59c3e9bd-2bd4-4209-aac6-131199290849",
   "metadata": {},
   "outputs": [
    {
     "name": "stderr",
     "output_type": "stream",
     "text": [
      "/mnt/sdb3/TEST/fingerprint_recognition/venv/lib/python3.8/site-packages/scipy/__init__.py:146: UserWarning: A NumPy version >=1.16.5 and <1.23.0 is required for this version of SciPy (detected version 1.16.3\n",
      "  warnings.warn(f\"A NumPy version >={np_minversion} and <{np_maxversion}\"\n"
     ]
    }
   ],
   "source": [
    "import cv2 as cv\n",
    "from glob import glob\n",
    "import os\n",
    "import numpy as np\n",
    "from utils.poincare import calculate_singularities\n",
    "from utils.segmentation import create_segmented_and_variance_images\n",
    "from utils.normalization import normalize\n",
    "from utils.gabor_filter import gabor_filter\n",
    "from utils.frequency import ridge_freq\n",
    "from utils import orientation\n",
    "from utils.crossing_number import calculate_minutiaes\n",
    "from utils.skeletonize import skeletonize\n",
    "\n",
    "from MyMAS import MAS"
   ]
  },
  {
   "cell_type": "code",
   "execution_count": 2,
   "id": "80b39ea3-7672-4c24-a261-f0bf58dd1a82",
   "metadata": {},
   "outputs": [],
   "source": [
    "def fingerprint_pipline(input_img):\n",
    "    block_size = 16\n",
    "\n",
    "    # pipe line picture re https://www.cse.iitk.ac.in/users/biometrics/pages/111.JPG\n",
    "    # normalization -> orientation -> frequency -> mask -> filtering\n",
    "\n",
    "    # normalization - removes the effects of sensor noise and finger pressure differences.\n",
    "    normalized_img = normalize(input_img.copy(), float(100), float(100))\n",
    "\n",
    "    # color threshold\n",
    "    # threshold_img = normalized_img\n",
    "    # _, threshold_im = cv.threshold(normalized_img,127,255,cv.THRESH_OTSU)\n",
    "    # cv.imshow('color_threshold', normalized_img); cv.waitKeyEx()\n",
    "\n",
    "    # ROI and normalisation\n",
    "    (segmented_img, normim, mask) = create_segmented_and_variance_images(normalized_img, block_size, 0.2)\n",
    "\n",
    "    # orientations\n",
    "    angles = orientation.calculate_angles(normalized_img, W=block_size, smoth=False)\n",
    "    orientation_img = orientation.visualize_angles(segmented_img, mask, angles, W=block_size)\n",
    "    \n",
    "    # find the overall frequency of ridges in Wavelet Domain\n",
    "    freq = ridge_freq(normim, mask, angles, block_size, kernel_size=5, minWaveLength=5, maxWaveLength=15)\n",
    "\n",
    "    # create gabor filter and do the actual filtering\n",
    "    gabor_img = gabor_filter(normim, angles, freq)\n",
    "\n",
    "    # thinning oor skeletonize\n",
    "    thin_image = skeletonize(gabor_img)\n",
    "\n",
    "    # minutias\n",
    "    minutias, end, bif = calculate_minutiaes(thin_image)\n",
    "\n",
    "    # singularities\n",
    "    singularities_img, FingerType = calculate_singularities(thin_image, angles, 1, block_size, mask)\n",
    "\n",
    "    # visualize pipeline stage by stage\n",
    "#     output_imgs = [input_img, normalized_img, segmented_img, orientation_img, gabor_img, thin_image, minutias, singularities_img]\n",
    "    output_imgs = [input_img, minutias, singularities_img]\n",
    "    \n",
    "#     for i in range(len(output_imgs)): # Lặp qua từng ảnh output\n",
    "#         if len(output_imgs[i].shape) == 2: # Nếu ảnh thứ i trong output là ảnh Gray(có 2 chiều)\n",
    "#             output_imgs[i] = cv.cvtColor(output_imgs[i], cv.COLOR_GRAY2RGB) # Chuyển thành ảnh RGB để concatenate với 2 ảnh cuối\n",
    "    \n",
    "    # Chuyển list các ảnh thành ảnh 4x4\n",
    "#     results = np.concatenate([np.concatenate(output_imgs[:4], 1), np.concatenate(output_imgs[4:], 1)]).astype(np.uint8)\n",
    "\n",
    "#     return results\n",
    "    return output_imgs, end, bif, FingerType"
   ]
  },
  {
   "cell_type": "code",
   "execution_count": 3,
   "id": "171a6416-b468-4ab3-8e82-3a2e00a2adb6",
   "metadata": {},
   "outputs": [],
   "source": [
    "def DISTANCE(U, V) -> float:\n",
    "    \"\"\"\n",
    "    \"\"\"\n",
    "    return np.sqrt((U[0] - V[0])**2 + (U[1] - V[1])**2)"
   ]
  },
  {
   "cell_type": "code",
   "execution_count": 4,
   "id": "e2b773f1-f403-4b25-816e-59e48bc336af",
   "metadata": {},
   "outputs": [],
   "source": [
    "def Points_distance(points1, points2) -> list:\n",
    "    n = points1.shape[0]\n",
    "    m = points2.shape[0]\n",
    "    Distance = np.zeros((n, m))\n",
    "    for i in range(n):\n",
    "        for j in range(m):\n",
    "            Distance[i, j] = DISTANCE(points1[i], points2[j])\n",
    "    return Distance"
   ]
  },
  {
   "cell_type": "code",
   "execution_count": 5,
   "id": "a5dc491a-1110-4ae7-a5d9-de0e50d3b4e1",
   "metadata": {},
   "outputs": [],
   "source": [
    "def Filter_Points(ListPoints, CenterPoint, size = (0,0)):\n",
    "    \"\"\"\n",
    "    \"\"\"\n",
    "    n = ListPoints.shape[0]\n",
    "    ResultPoints = []\n",
    "    for i in range(n):\n",
    "        distance = np.abs(CenterPoint - ListPoints[i])\n",
    "        if (distance[0] <= size[0]/2) and (distance[1] <= size[1]/2):\n",
    "            ResultPoints.append(ListPoints[i].tolist())\n",
    "    return np.array(ResultPoints)"
   ]
  },
  {
   "cell_type": "code",
   "execution_count": 6,
   "id": "63b3a399-d793-4df8-92da-8b85b2159a37",
   "metadata": {},
   "outputs": [],
   "source": [
    "def Transtation_Finger(Minutiae, Trans_Vector) -> np.ndarray:\n",
    "    \"\"\"\n",
    "    \"\"\"\n",
    "    return Minutiae + Trans_Vector"
   ]
  },
  {
   "cell_type": "code",
   "execution_count": 7,
   "id": "f271828d-20af-4634-8675-562c8f301a81",
   "metadata": {},
   "outputs": [],
   "source": [
    "def MATCH(finger1, finger2, alpha=0.5, box_size=(0, 0)) -> bool:\n",
    "    \"\"\"\n",
    "    \"\"\"\n",
    "    # Get feature\n",
    "    center_point1, end_1, bif_1 = finger1[0], finger1[1], finger1[2]\n",
    "    center_point2, end_2, bif_2 = finger2[0], finger2[1], finger2[2]\n",
    "    \n",
    "    translation_vector = center_point2 - center_point1\n",
    "    \n",
    "    # Translation minutiaes\n",
    "    end_1 = Transtation_Finger(end_1, translation_vector)\n",
    "    bif_1 = Transtation_Finger(bif_1, translation_vector)\n",
    "    \n",
    "    # Filter minutiaes\n",
    "    new_end_1 = Filter_Points(end_1, center_point2, size=box_size)\n",
    "    new_bif_1 = Filter_Points(bif_1, center_point2, size=box_size)\n",
    "    new_end_2 = Filter_Points(end_2, center_point2, size=box_size)\n",
    "    new_bif_2 = Filter_Points(bif_2, center_point2, size=box_size)\n",
    "    \n",
    "    n1_end = new_end_1.shape[0]\n",
    "    n1_bif = new_bif_1.shape[0]\n",
    "    n2_end = new_end_2.shape[0]\n",
    "    n2_bif = new_bif_2.shape[0]\n",
    "    \n",
    "    # Match ending points\n",
    "    Distance_end = Points_distance(new_end_1, new_end_2)\n",
    "    end_min_dist = Distance_end.min(axis=0)\n",
    "    end_min_index = Distance_end.argmin(axis=0)\n",
    "    \n",
    "    # Match bifucation points\n",
    "    Distance_bif = Points_distance(new_bif_1, new_bif_2)\n",
    "    bif_min_dist = Distance_bif.min(axis=0)\n",
    "    bif_min_index = Distance_bif.argmin(axis=0)\n",
    "    \n",
    "    # Check Matching\n",
    "    end_matched = np.where(end_min_dist <= 15)[0].shape[0]\n",
    "    bif_matched = np.where(bif_min_dist <= 15)[0].shape[0]\n",
    "    \n",
    "    if (end_matched + bif_matched)/(n1_end + n1_bif) >= alpha:\n",
    "        return True\n",
    "    else:\n",
    "        return False"
   ]
  },
  {
   "cell_type": "code",
   "execution_count": 8,
   "id": "12813467-f640-4646-aef2-3f62eb921882",
   "metadata": {},
   "outputs": [],
   "source": [
    "box_size = (150, 300)"
   ]
  },
  {
   "cell_type": "code",
   "execution_count": 9,
   "id": "139cf89a-529b-4dcf-8b04-5c4f96ec8eb6",
   "metadata": {},
   "outputs": [],
   "source": [
    "# MATCH(images[0], images[2], box_size=(150, 300))"
   ]
  },
  {
   "cell_type": "code",
   "execution_count": 10,
   "id": "d1a8c265-8e4a-4e65-961c-39480b915c92",
   "metadata": {},
   "outputs": [],
   "source": [
    "def Draw_Result():\n",
    "    \"\"\"\n",
    "    \"\"\"\n",
    "    pass"
   ]
  },
  {
   "cell_type": "code",
   "execution_count": 11,
   "id": "fbddaaad-f3fd-4abc-a8ce-fb955ee10472",
   "metadata": {},
   "outputs": [],
   "source": [
    "def FeaturesExtraction(finger):\n",
    "    \"\"\"\n",
    "    \"\"\"\n",
    "    imgresult, end, bif, fingertype = fingerprint_pipline(finger)\n",
    "    center_point = np.array(fingertype)[:,1:].astype(int).mean(axis=0)\n",
    "    \n",
    "    end = np.array(end)[:,1:]\n",
    "    bif = np.array(bif)[:,1:]\n",
    "    \n",
    "    return [center_point, end, bif]"
   ]
  },
  {
   "cell_type": "code",
   "execution_count": 12,
   "id": "8fd2e2cf-1c59-4efd-9b52-907a43b4cc41",
   "metadata": {},
   "outputs": [],
   "source": [
    "# finger1 = FeaturesExtraction(images[0])\n",
    "# finger2 = FeaturesExtraction(images[3])"
   ]
  },
  {
   "cell_type": "code",
   "execution_count": 13,
   "id": "71dea93b-9e65-4a73-9eed-cb3e92caee01",
   "metadata": {},
   "outputs": [],
   "source": [
    "# MATCH(finger1, finger2, box_size=(150,300))"
   ]
  },
  {
   "cell_type": "code",
   "execution_count": 14,
   "id": "6b8f3082-1b63-494d-b75b-e2868d526136",
   "metadata": {},
   "outputs": [],
   "source": [
    "def S_Generation(PIN, lenMask) -> str:\n",
    "    \"\"\"\n",
    "    \"\"\"\n",
    "    S = bin(PIN)[2:]\n",
    "    n = len(S)\n",
    "    k = lenMask//n\n",
    "    \n",
    "    return S*k + S[:lenMask - n*k]\n",
    "    "
   ]
  },
  {
   "cell_type": "code",
   "execution_count": 15,
   "id": "ca376db5-95ea-4b64-9ca5-8ab43b175c09",
   "metadata": {},
   "outputs": [],
   "source": [
    "def Features2Msg(features):\n",
    "    \"\"\"\n",
    "    \"\"\"\n",
    "    center, end, bif = features[0].astype(int), features[1].astype(int), features[2].astype(int)\n",
    "    \n",
    "    center_msg = \"{:3d}{:3d}\".format(center[0], center[1]).replace(' ', '0')\n",
    "    \n",
    "    n = end.shape[0]\n",
    "    m = bif.shape[0]\n",
    "    \n",
    "    end_msg = ''\n",
    "    for point in end:\n",
    "        end_msg += \"{:3}{:3}\".format(point[0], point[1]).replace(' ', '0')\n",
    "    \n",
    "    bif_msg = ''\n",
    "    for point in bif:\n",
    "        bif_msg += \"{:3}{:3}\".format(point[0], point[1]).replace(' ', '0')\n",
    "    \n",
    "    return \"{}{:3}{:3}{}{}\".format(center_msg, n, m, end_msg, bif_msg).replace(' ', '0')\n",
    "    "
   ]
  },
  {
   "cell_type": "code",
   "execution_count": 16,
   "id": "436d476a-8e94-46f3-81ca-16ac4397789e",
   "metadata": {},
   "outputs": [],
   "source": [
    "#Features2Msg(finger1)"
   ]
  },
  {
   "cell_type": "code",
   "execution_count": 17,
   "id": "1bd4cdd0-c08d-4930-aa67-a72bc90b5571",
   "metadata": {},
   "outputs": [],
   "source": [
    "def EncryptFinger(finger, PIN, A, B, X, Code, lenMask, k, padWord):\n",
    "    \"\"\"\n",
    "    \"\"\"\n",
    "    # generation S\n",
    "#     S = S_Generation(PIN, lenMask)\n",
    "    S = b'10001101101011101000100011011010111010001110100011101000'\n",
    "    print('generation Mask successful!')\n",
    "    \n",
    "    Msg = Features2Msg(finger)\n",
    "    print('generation Msg successful!')\n",
    "    \n",
    "    cryptosystem = MAS(A, B, Code, X, S, k, padWord)\n",
    "    \n",
    "    EMsg = cryptosystem.Encode(Msg)\n",
    "    print('Encode successful!')\n",
    "    \n",
    "    return EMsg"
   ]
  },
  {
   "cell_type": "code",
   "execution_count": 18,
   "id": "6eb4696b-7568-4714-91a3-7723c579b874",
   "metadata": {},
   "outputs": [],
   "source": [
    "def Emsg2Features(EMsg, PIN, A, B, X, Code, lenMask, k, padWord):\n",
    "    \"\"\"\n",
    "    \"\"\"\n",
    "    end = []\n",
    "    bif = []\n",
    "    \n",
    "    S = b'10001101101011101000100011011010111010001110100011101000'\n",
    "    print('generation Mask successful!')\n",
    "    \n",
    "    cryptosystem = MAS(A, B, Code, X, S, k, padWord)\n",
    "    \n",
    "    Result =  \"\".join(cryptosystem.Decode(EMsg))\n",
    "    \n",
    "    CenterPoint = np.array([Result[:3], Result[3:6]]).astype(int)\n",
    "    n, m = int(Result[6:9]), int(Result[9: 12])\n",
    "    \n",
    "    t = 12\n",
    "    for i in range(n):\n",
    "        end.append([int(Result[t: t+3]), int(Result[t+3: t+6])])\n",
    "        t += 6\n",
    "    for i in range(m):\n",
    "        bif.append([int(Result[t: t+3]), int(Result[t+3: t+6])])\n",
    "        t += 6\n",
    "    return [np.array(CenterPoint), np.array(end), np.array(bif)]"
   ]
  },
  {
   "cell_type": "code",
   "execution_count": 19,
   "id": "78e2e13e-9f56-44fc-a767-162d3a8c8ccb",
   "metadata": {},
   "outputs": [],
   "source": [
    "# PIN = 999999\n",
    "\n",
    "# S = S_Generation(PIN, 56)\n",
    "# print(S, '\\n', len(S))"
   ]
  },
  {
   "cell_type": "code",
   "execution_count": 20,
   "id": "105daca5-5ce3-4429-a24b-be75e89b83df",
   "metadata": {},
   "outputs": [],
   "source": [
    "# Config Cryptosystem\n",
    "PIN = 123456\n",
    "lenMask = 56\n",
    "\n",
    "# Example Initialization\n",
    "A = ['0', '1', '2', '3', '4', '5', '6', '7', '8', '9']\n",
    "B = ['a', 'b', 'c', 'd', 'e', 'f', 'g', 'h', 'i', 'j', 'k', 'l', 'm', 'n','o', 'p']\n",
    "Code = {'a': b'1000',\n",
    "        'b': b'1110',\n",
    "        'c': b'0011', \n",
    "        'd': b'1111', \n",
    "        'e': b'1101', \n",
    "        'f': b'0010', \n",
    "        'g': b'1100', \n",
    "        'h': b'0101',\n",
    "        'i': b'1011',\n",
    "        'j': b'0000',\n",
    "        'k': b'1001',\n",
    "        'l': b'0111',\n",
    "        'm': b'0100',\n",
    "        'n': b'1010',\n",
    "        'o': b'0001',\n",
    "        'p': b'0110'}\n",
    "\n",
    "# Language\n",
    "X0 = ['a', 'cgh']\n",
    "X1 = ['egm', 'nmc']\n",
    "X2 = ['ig', 'fce']\n",
    "X3 = ['jkd']\n",
    "X4 = ['bea', 'mok']\n",
    "X5 = ['fno', 'ihc']\n",
    "X6 = ['cei']\n",
    "X7 = ['demc', 'khm']\n",
    "X8 = ['lbkh']\n",
    "X9 = ['kog', 'dcef']\n",
    "X = [X0, X1, X2, X3, X4, X5, X6, X7, X8, X9]\n",
    "paddingWord = 'p'\n",
    "k = 3"
   ]
  },
  {
   "cell_type": "code",
   "execution_count": 53,
   "id": "09a5e7b2-6861-4977-affc-f4d2191ce47a",
   "metadata": {},
   "outputs": [],
   "source": [
    "finger_path1 = './sample_inputs/101_1.tif'\n",
    "\n",
    "image1 = cv.imread(finger_path1, 0)\n",
    "\n",
    "finger_origin = FeaturesExtraction(image1)"
   ]
  },
  {
   "cell_type": "code",
   "execution_count": 50,
   "id": "2721f2d5-4453-4a60-934d-b9ff515fbc2f",
   "metadata": {},
   "outputs": [
    {
     "name": "stdout",
     "output_type": "stream",
     "text": [
      "generation Mask successful!\n",
      "generation Msg successful!\n",
      "MAS cryptosystem initialization successful!\n",
      "Author: Thanh HoangVan\n",
      "Github: thanhhoangvan\n",
      "+-----------------------------------------+\n",
      "Encode successful!\n"
     ]
    }
   ],
   "source": [
    "EMsg = EncryptFinger(finger_origin, PIN, A, B, X, Code, lenMask, k, paddingWord)"
   ]
  },
  {
   "cell_type": "code",
   "execution_count": 51,
   "id": "7e084958-97eb-45ef-b255-ab974fe4835e",
   "metadata": {},
   "outputs": [
    {
     "name": "stdout",
     "output_type": "stream",
     "text": [
      "generation Mask successful!\n",
      "MAS cryptosystem initialization successful!\n",
      "Author: Thanh HoangVan\n",
      "Github: thanhhoangvan\n",
      "+-----------------------------------------+\n"
     ]
    }
   ],
   "source": [
    "finger_saved = Emsg2Features(EMsg, PIN, A, B, X, Code, lenMask, k, paddingWord)"
   ]
  },
  {
   "cell_type": "code",
   "execution_count": 58,
   "id": "443a74d5-b3d4-499f-8833-cd876eb0daa0",
   "metadata": {},
   "outputs": [],
   "source": [
    "finger_path2 = './sample_inputs/101_3.tif'\n",
    "image2 = cv.imread(finger_path2, 0)\n",
    "finger_match = FeaturesExtraction(image2)"
   ]
  },
  {
   "cell_type": "code",
   "execution_count": 59,
   "id": "13c118ac-70b2-4436-8c30-77a19f8f90d3",
   "metadata": {},
   "outputs": [
    {
     "data": {
      "text/plain": [
       "False"
      ]
     },
     "execution_count": 59,
     "metadata": {},
     "output_type": "execute_result"
    }
   ],
   "source": [
    "MATCH(finger_saved, finger_match, box_size=(150, 300))"
   ]
  },
  {
   "cell_type": "code",
   "execution_count": null,
   "id": "9a64dfc5-4dac-4a72-aba8-fb81167eb6f8",
   "metadata": {},
   "outputs": [],
   "source": []
  }
 ],
 "metadata": {
  "kernelspec": {
   "display_name": "Python 3 (ipykernel)",
   "language": "python",
   "name": "python3"
  },
  "language_info": {
   "codemirror_mode": {
    "name": "ipython",
    "version": 3
   },
   "file_extension": ".py",
   "mimetype": "text/x-python",
   "name": "python",
   "nbconvert_exporter": "python",
   "pygments_lexer": "ipython3",
   "version": "3.8.10"
  }
 },
 "nbformat": 4,
 "nbformat_minor": 5
}
